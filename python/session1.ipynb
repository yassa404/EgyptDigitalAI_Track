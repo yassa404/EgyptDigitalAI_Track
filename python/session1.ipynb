{
 "cells": [
  {
   "cell_type": "code",
   "execution_count": 1,
   "id": "5a369ae1-6cb3-4451-830a-cef18b13e4d2",
   "metadata": {},
   "outputs": [
    {
     "data": {
      "text/plain": [
       "'D:\\\\course\\\\AIDEPIAMIT\\\\coding session'"
      ]
     },
     "execution_count": 1,
     "metadata": {},
     "output_type": "execute_result"
    }
   ],
   "source": [
    "pwd"
   ]
  },
  {
   "cell_type": "code",
   "execution_count": 5,
   "id": "39436dea-551d-4d9e-a3d2-61c356d63eec",
   "metadata": {},
   "outputs": [
    {
     "name": "stdout",
     "output_type": "stream",
     "text": [
      "hello world\n"
     ]
    }
   ],
   "source": [
    "print (\"hello world\")"
   ]
  },
  {
   "cell_type": "code",
   "execution_count": 7,
   "id": "06f8682c-8e16-4fc4-92ce-34c699be9ed1",
   "metadata": {},
   "outputs": [
    {
     "name": "stdin",
     "output_type": "stream",
     "text": [
      "enter username ss\n"
     ]
    },
    {
     "data": {
      "text/plain": [
       "'ss'"
      ]
     },
     "execution_count": 7,
     "metadata": {},
     "output_type": "execute_result"
    }
   ],
   "source": [
    "input(\"enter username\")"
   ]
  },
  {
   "cell_type": "code",
   "execution_count": 17,
   "id": "08f9faf6-7d39-4d61-b7b5-8b8e6a36b9b5",
   "metadata": {},
   "outputs": [
    {
     "name": "stdout",
     "output_type": "stream",
     "text": [
      "<class 'int'>\n"
     ]
    }
   ],
   "source": [
    "user_name=0\n",
    "print(type(user_name))"
   ]
  },
  {
   "cell_type": "code",
   "execution_count": 13,
   "id": "fee17b47-2a5b-4f02-b009-dbdc0729dd69",
   "metadata": {},
   "outputs": [
    {
     "name": "stdout",
     "output_type": "stream",
     "text": [
      "<class 'float'>\n"
     ]
    }
   ],
   "source": [
    "user_name=0.0\n",
    "print(type(user_name))"
   ]
  },
  {
   "cell_type": "code",
   "execution_count": 15,
   "id": "97dc2b70-8ee0-4b24-9a2e-41f4c4c95b9d",
   "metadata": {},
   "outputs": [
    {
     "name": "stdout",
     "output_type": "stream",
     "text": [
      "<class 'str'>\n"
     ]
    }
   ],
   "source": [
    "user_name=''\n",
    "print(type(user_name))"
   ]
  },
  {
   "cell_type": "code",
   "execution_count": 19,
   "id": "4d06ebfb-7f73-47de-9ef6-4c78fbb128b3",
   "metadata": {},
   "outputs": [
    {
     "name": "stdin",
     "output_type": "stream",
     "text": [
      "enter your name yassa\n"
     ]
    },
    {
     "name": "stdout",
     "output_type": "stream",
     "text": [
      "<class 'str'>\n"
     ]
    }
   ],
   "source": [
    "user_name=input(\"enter your name\")\n",
    "print(type(user_name))"
   ]
  },
  {
   "cell_type": "code",
   "execution_count": 23,
   "id": "f482708b-3100-4be6-bf54-62671193dd0f",
   "metadata": {},
   "outputs": [
    {
     "name": "stdin",
     "output_type": "stream",
     "text": [
      "enter your birth 30\n"
     ]
    },
    {
     "name": "stdout",
     "output_type": "stream",
     "text": [
      "<class 'str'>\n"
     ]
    }
   ],
   "source": [
    "date_birth=input(\"enter your birth\")\n",
    "print(type(date_birth))\n",
    "#difult off input is str"
   ]
  },
  {
   "cell_type": "code",
   "execution_count": 29,
   "id": "168bdf8f-08b7-4e74-b8b3-e73447f47560",
   "metadata": {},
   "outputs": [
    {
     "name": "stdout",
     "output_type": "stream",
     "text": [
      "<class 'int'>\n"
     ]
    }
   ],
   "source": [
    "date_birth=int(date_birth)\n",
    "print(type(date_birth))"
   ]
  },
  {
   "cell_type": "code",
   "execution_count": 31,
   "id": "a46f5afe-90cc-49c1-9b5c-c6f875bf20dd",
   "metadata": {},
   "outputs": [
    {
     "name": "stdin",
     "output_type": "stream",
     "text": [
      "enter your birth 30\n"
     ]
    },
    {
     "name": "stdout",
     "output_type": "stream",
     "text": [
      "<class 'float'>\n"
     ]
    }
   ],
   "source": [
    "date_birth=float(input(\"enter your birth\"))\n",
    "print(type(date_birth))\n",
    "#difult off input is str"
   ]
  },
  {
   "cell_type": "code",
   "execution_count": 101,
   "id": "55601635-c372-4643-a420-faadf252e0ee",
   "metadata": {},
   "outputs": [
    {
     "data": {
      "text/plain": [
       "list"
      ]
     },
     "execution_count": 101,
     "metadata": {},
     "output_type": "execute_result"
    }
   ],
   "source": [
    "#index start (0 1 2 3 )\n",
    "data= [0,1,2,3,4,5,6,7]\n",
    "type (data)"
   ]
  },
  {
   "cell_type": "code",
   "execution_count": 69,
   "id": "b285ac7a-d160-4064-b09a-73d3c0952990",
   "metadata": {},
   "outputs": [
    {
     "data": {
      "text/plain": [
       "3"
      ]
     },
     "execution_count": 69,
     "metadata": {},
     "output_type": "execute_result"
    }
   ],
   "source": [
    "data\n",
    "data [3]"
   ]
  },
  {
   "cell_type": "code",
   "execution_count": 71,
   "id": "a2344f86-cf36-48ef-a006-2b49839ee94b",
   "metadata": {},
   "outputs": [
    {
     "data": {
      "text/plain": [
       "7"
      ]
     },
     "execution_count": 71,
     "metadata": {},
     "output_type": "execute_result"
    }
   ],
   "source": [
    "## negtive index ( -3  -2 -1\n",
    "data[-1]"
   ]
  },
  {
   "cell_type": "code",
   "execution_count": 73,
   "id": "1d806961-6655-4fce-bc15-c6d2fd9cdec7",
   "metadata": {},
   "outputs": [
    {
     "data": {
      "text/plain": [
       "[0, 1, 2, 3, 4, 5, 6, 7, 10]"
      ]
     },
     "execution_count": 73,
     "metadata": {},
     "output_type": "execute_result"
    }
   ],
   "source": [
    "data. append(10)\n",
    "data"
   ]
  },
  {
   "cell_type": "code",
   "execution_count": 75,
   "id": "409fda24-04e0-42e6-91b7-8dc25e837f6f",
   "metadata": {},
   "outputs": [
    {
     "data": {
      "text/plain": [
       "[0, 1, 2, 10, 3, 4, 5, 6, 7, 10]"
      ]
     },
     "execution_count": 75,
     "metadata": {},
     "output_type": "execute_result"
    }
   ],
   "source": [
    "data.insert(3,10)\n",
    "data"
   ]
  },
  {
   "cell_type": "code",
   "execution_count": 77,
   "id": "edacdf17-4151-4cd9-aae2-6cb208e6d673",
   "metadata": {},
   "outputs": [
    {
     "data": {
      "text/plain": [
       "10"
      ]
     },
     "execution_count": 77,
     "metadata": {},
     "output_type": "execute_result"
    }
   ],
   "source": [
    "data.pop()"
   ]
  },
  {
   "cell_type": "code",
   "execution_count": 87,
   "id": "93643364-e7cb-4dcd-8b53-e66d11bde48d",
   "metadata": {},
   "outputs": [
    {
     "data": {
      "text/plain": [
       "[4, 5, 6, 7]"
      ]
     },
     "execution_count": 87,
     "metadata": {},
     "output_type": "execute_result"
    }
   ],
   "source": [
    "data.pop(0)\n",
    "data\n",
    "#remove number 4"
   ]
  },
  {
   "cell_type": "code",
   "execution_count": 93,
   "id": "74239df5-6f0d-48bb-995d-95c06919f19d",
   "metadata": {},
   "outputs": [
    {
     "data": {
      "text/plain": [
       "[4, 5, 6, 7]"
      ]
     },
     "execution_count": 93,
     "metadata": {},
     "output_type": "execute_result"
    }
   ],
   "source": [
    "data.remove\n",
    "data"
   ]
  },
  {
   "cell_type": "code",
   "execution_count": 99,
   "id": "0479f344-81cd-4549-86ce-2e7f6762f508",
   "metadata": {},
   "outputs": [
    {
     "data": {
      "text/plain": [
       "[4, 5, 6]"
      ]
     },
     "execution_count": 99,
     "metadata": {},
     "output_type": "execute_result"
    }
   ],
   "source": [
    "del data[3]\n",
    "data"
   ]
  },
  {
   "cell_type": "code",
   "execution_count": null,
   "id": "459293cc-c2a8-48c2-aff9-55c50178e236",
   "metadata": {},
   "outputs": [],
   "source": []
  }
 ],
 "metadata": {
  "kernelspec": {
   "display_name": "Python 3 (ipykernel)",
   "language": "python",
   "name": "python3"
  },
  "language_info": {
   "codemirror_mode": {
    "name": "ipython",
    "version": 3
   },
   "file_extension": ".py",
   "mimetype": "text/x-python",
   "name": "python",
   "nbconvert_exporter": "python",
   "pygments_lexer": "ipython3",
   "version": "3.12.7"
  }
 },
 "nbformat": 4,
 "nbformat_minor": 5
}
