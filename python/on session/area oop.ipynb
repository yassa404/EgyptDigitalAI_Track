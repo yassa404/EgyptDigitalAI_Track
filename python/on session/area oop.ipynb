{
 "cells": [
  {
   "cell_type": "code",
   "execution_count": 33,
   "id": "353f41df-c004-45a9-8fb9-76d69d67012e",
   "metadata": {},
   "outputs": [],
   "source": [
    "class shap :\n",
    "    def area():\n",
    "        pass"
   ]
  },
  {
   "cell_type": "code",
   "execution_count": 53,
   "id": "7eb2723d-bba1-43ff-b646-c6d50e551011",
   "metadata": {},
   "outputs": [],
   "source": [
    "class area(shap):\n",
    "    def __init__ (self,r):\n",
    "        self.r=r\n",
    "    def area(self):\n",
    "        area=3.14*self.r\n",
    "        print(area)"
   ]
  },
  {
   "cell_type": "code",
   "execution_count": 67,
   "id": "e64f3705-7653-4e4d-9f4e-a00f5982ac5f",
   "metadata": {},
   "outputs": [
    {
     "name": "stdout",
     "output_type": "stream",
     "text": [
      "12.56\n"
     ]
    }
   ],
   "source": [
    "cir=area(4)\n",
    "cir.area()"
   ]
  },
  {
   "cell_type": "code",
   "execution_count": 69,
   "id": "c830f69a-f09a-4970-8c0e-71eb7dff1e71",
   "metadata": {},
   "outputs": [],
   "source": [
    "class rec(shap):\n",
    "    def __init__ (self,x,y):\n",
    "        self.x=x\n",
    "        self.y=y\n",
    "    def area(self):\n",
    "        area=self.x*self.y\n",
    "        print(area)"
   ]
  },
  {
   "cell_type": "code",
   "execution_count": 71,
   "id": "f34cf44b-f3ad-4977-a8da-864d80c20cb9",
   "metadata": {},
   "outputs": [
    {
     "name": "stdout",
     "output_type": "stream",
     "text": [
      "8\n"
     ]
    }
   ],
   "source": [
    "rectangle=rec(2,4)\n",
    "rectangle.area()"
   ]
  },
  {
   "cell_type": "code",
   "execution_count": null,
   "id": "04d0073e-3170-4607-b6a8-10f5893db37a",
   "metadata": {},
   "outputs": [],
   "source": []
  }
 ],
 "metadata": {
  "kernelspec": {
   "display_name": "Python 3 (ipykernel)",
   "language": "python",
   "name": "python3"
  },
  "language_info": {
   "codemirror_mode": {
    "name": "ipython",
    "version": 3
   },
   "file_extension": ".py",
   "mimetype": "text/x-python",
   "name": "python",
   "nbconvert_exporter": "python",
   "pygments_lexer": "ipython3",
   "version": "3.12.7"
  }
 },
 "nbformat": 4,
 "nbformat_minor": 5
}
