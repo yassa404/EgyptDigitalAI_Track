{
 "cells": [
  {
   "cell_type": "code",
   "execution_count": 40,
   "id": "49e8be48-7c63-4d77-a5b9-383deaeb0424",
   "metadata": {},
   "outputs": [],
   "source": [
    "class animal:\n",
    "    def __init__(self,name,age) :\n",
    "        self.name=name\n",
    "        self.age=age\n",
    "    def sound (self) :\n",
    "        print(\"the anemal sound is\")\n",
    "    def info (self) :\n",
    "        print(f\"the anemal is {self.name} age : {self.age}\")"
   ]
  },
  {
   "cell_type": "code",
   "execution_count": 42,
   "id": "b4a6589d-ab10-4119-9ef7-ade0655d40ae",
   "metadata": {},
   "outputs": [
    {
     "name": "stdout",
     "output_type": "stream",
     "text": [
      "the anemal sound is\n"
     ]
    }
   ],
   "source": [
    "dog= animal('rex',23)\n",
    "dog.sound()"
   ]
  },
  {
   "cell_type": "code",
   "execution_count": 58,
   "id": "1f7b6817-4556-405f-82fb-cf20ba28c60c",
   "metadata": {},
   "outputs": [],
   "source": [
    "class Dog(animal):\n",
    "    def sound (self) :\n",
    "        print(\"bak bark\")    "
   ]
  },
  {
   "cell_type": "code",
   "execution_count": 60,
   "id": "ebfb7bfc-7911-41a5-9fd2-07bd9037f8ad",
   "metadata": {},
   "outputs": [
    {
     "name": "stdout",
     "output_type": "stream",
     "text": [
      "bak bark\n",
      "the anemal is momo age : 12\n"
     ]
    }
   ],
   "source": [
    "x=Dog('momo',12)\n",
    "x.sound()\n",
    "x.info()"
   ]
  },
  {
   "cell_type": "code",
   "execution_count": null,
   "id": "791077b8-0a13-4ea7-b692-7a8dff9b13fa",
   "metadata": {},
   "outputs": [],
   "source": []
  }
 ],
 "metadata": {
  "kernelspec": {
   "display_name": "Python 3 (ipykernel)",
   "language": "python",
   "name": "python3"
  },
  "language_info": {
   "codemirror_mode": {
    "name": "ipython",
    "version": 3
   },
   "file_extension": ".py",
   "mimetype": "text/x-python",
   "name": "python",
   "nbconvert_exporter": "python",
   "pygments_lexer": "ipython3",
   "version": "3.12.7"
  }
 },
 "nbformat": 4,
 "nbformat_minor": 5
}
