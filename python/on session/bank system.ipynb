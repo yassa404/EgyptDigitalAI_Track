{
 "cells": [
  {
   "cell_type": "code",
   "execution_count": 75,
   "id": "dcf00df1-8019-42a1-bad7-9b90d458126c",
   "metadata": {},
   "outputs": [],
   "source": [
    "class account:\n",
    "    def __init__(self,name,balance):\n",
    "        self.accoountname=name\n",
    "        self.balance=balance\n",
    "        \n",
    "        \n",
    "    def get_balance (self):\n",
    "        print (f\"your balance is '{self.balance}\")\n",
    "        \n",
    "    def without(self,amount):\n",
    "        if amount > self.balance :\n",
    "            print(f\"sorry your balance is '{self.balance}\")\n",
    "        else :\n",
    "            self.balance=self.balance-amount\n",
    "            print(f'you withdraw {amount} now your balance is {self.balance}')\n",
    "            \n",
    "    def deposit(self,amount):\n",
    "        self.balance=self.balance+amount\n",
    "        print(f'your deposit {amount} now your balance is {self.balance}')\n",
    "\n",
    "    def saving (self):\n",
    "        self.balance=self.balance+self.balance*0.1\n",
    "        print (f\"your balance rate= {self.balance}\")"
   ]
  },
  {
   "cell_type": "code",
   "execution_count": 77,
   "id": "91f6967d-204b-411b-b9ac-127100b74148",
   "metadata": {},
   "outputs": [],
   "source": [
    "ahmad=account('yassa',3000)"
   ]
  },
  {
   "cell_type": "code",
   "execution_count": 79,
   "id": "fa6e4563-92d7-415d-8102-48e82a0f4f76",
   "metadata": {},
   "outputs": [
    {
     "name": "stdout",
     "output_type": "stream",
     "text": [
      "your balance is '3000\n",
      "sorry your balance is '3000\n",
      "you withdraw 2000 now your balance is 1000\n",
      "your deposit 1000 now your balance is 2000\n"
     ]
    }
   ],
   "source": [
    "ahmad.get_balance()\n",
    "ahmad.without(5000)\n",
    "ahmad.without(2000)\n",
    "ahmad.deposit(1000)"
   ]
  },
  {
   "cell_type": "code",
   "execution_count": 81,
   "id": "b26383fa-4dec-4dda-8a21-79928201b69e",
   "metadata": {},
   "outputs": [],
   "source": [
    "    class saving (account):\n",
    "        def __init__(self,name,balance,persent):\n",
    "            super().__init__(name,balance)\n",
    "            self.balance=self.balance+self.balance*persent\n",
    "            print (f\"your balance rate= {self.balance}\")"
   ]
  },
  {
   "cell_type": "code",
   "execution_count": 83,
   "id": "3599c606-255d-4c0c-b287-d693c3e757cb",
   "metadata": {},
   "outputs": [
    {
     "name": "stdout",
     "output_type": "stream",
     "text": [
      "your balance rate= 5500.0\n"
     ]
    }
   ],
   "source": [
    "ahmmmd=saving('yassa',5000,0.1)"
   ]
  },
  {
   "cell_type": "code",
   "execution_count": 85,
   "id": "fd70fc82-1092-4cb4-b084-7263df44cf88",
   "metadata": {},
   "outputs": [
    {
     "name": "stdout",
     "output_type": "stream",
     "text": [
      "you withdraw 2000 now your balance is 3500.0\n"
     ]
    }
   ],
   "source": [
    "ahmmmd.without(2000)"
   ]
  }
 ],
 "metadata": {
  "kernelspec": {
   "display_name": "Python 3 (ipykernel)",
   "language": "python",
   "name": "python3"
  },
  "language_info": {
   "codemirror_mode": {
    "name": "ipython",
    "version": 3
   },
   "file_extension": ".py",
   "mimetype": "text/x-python",
   "name": "python",
   "nbconvert_exporter": "python",
   "pygments_lexer": "ipython3",
   "version": "3.12.7"
  }
 },
 "nbformat": 4,
 "nbformat_minor": 5
}
