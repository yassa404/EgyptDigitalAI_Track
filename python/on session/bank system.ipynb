{
 "cells": [
  {
   "cell_type": "code",
   "execution_count": 57,
   "id": "dcf00df1-8019-42a1-bad7-9b90d458126c",
   "metadata": {},
   "outputs": [],
   "source": [
    "class account:\n",
    "    def __init__(self,name,balance):\n",
    "        self.accoountname=name\n",
    "        self.balance=balance\n",
    "        \n",
    "        \n",
    "    def get_balance (self):\n",
    "        print (f\"your balance is '{self.balance}\")\n",
    "        \n",
    "    def without(self,amount):\n",
    "        if amount > self.balance :\n",
    "            print(f\"sorry your balance is '{self.balance}\")\n",
    "        else :\n",
    "            self.balance=self.balance-amount\n",
    "            print(f'you withdraw {amount} now your balance is {self.balance}')\n",
    "            \n",
    "    def deposit(self,amount):\n",
    "        self.balance=self.balance+amount\n",
    "        print(f'your deposit {amount} now your balance is {self.balance}')\n",
    "\n",
    "    def saving (self):\n",
    "        self.balance=self.balance+self.balance*0.1\n",
    "        print (f\"your balance rate= {self.balance}\")"
   ]
  },
  {
   "cell_type": "code",
   "execution_count": 59,
   "id": "91f6967d-204b-411b-b9ac-127100b74148",
   "metadata": {},
   "outputs": [],
   "source": [
    "ahmad=account('yassa',3000)"
   ]
  },
  {
   "cell_type": "code",
   "execution_count": 61,
   "id": "fa6e4563-92d7-415d-8102-48e82a0f4f76",
   "metadata": {},
   "outputs": [
    {
     "name": "stdout",
     "output_type": "stream",
     "text": [
      "your balance is '3000\n",
      "sorry your balance is '3000\n",
      "you withdraw 2000 now your balance is 1000\n",
      "your deposit 1000 now your balance is 2000\n"
     ]
    }
   ],
   "source": [
    "ahmad.get_balance()\n",
    "ahmad.without(5000)\n",
    "ahmad.without(2000)\n",
    "ahmad.deposit(1000)"
   ]
  },
  {
   "cell_type": "code",
   "execution_count": 63,
   "id": "ad0aebe7-7a60-427a-a2be-e8d8ed0e7912",
   "metadata": {},
   "outputs": [
    {
     "name": "stdout",
     "output_type": "stream",
     "text": [
      "your balance rate= 2200.0\n"
     ]
    }
   ],
   "source": [
    "ahmad.saving ()"
   ]
  },
  {
   "cell_type": "code",
   "execution_count": 65,
   "id": "b26383fa-4dec-4dda-8a21-79928201b69e",
   "metadata": {},
   "outputs": [],
   "source": [
    "    class saving (account):\n",
    "        def __init__(self,name,balance,persent):\n",
    "            super().\n",
    "            self.balance=self.balance+self.balance*persent\n",
    "            print (f\"your balance rate= {self.balance}\")"
   ]
  },
  {
   "cell_type": "code",
   "execution_count": 67,
   "id": "3599c606-255d-4c0c-b287-d693c3e757cb",
   "metadata": {},
   "outputs": [
    {
     "ename": "AttributeError",
     "evalue": "'saving' object has no attribute 'balance'",
     "output_type": "error",
     "traceback": [
      "\u001b[1;31m---------------------------------------------------------------------------\u001b[0m",
      "\u001b[1;31mAttributeError\u001b[0m                            Traceback (most recent call last)",
      "Cell \u001b[1;32mIn[67], line 1\u001b[0m\n\u001b[1;32m----> 1\u001b[0m ahmmmd\u001b[38;5;241m=\u001b[39msaving(\u001b[38;5;124m'\u001b[39m\u001b[38;5;124myassa\u001b[39m\u001b[38;5;124m'\u001b[39m,\u001b[38;5;241m5000\u001b[39m,\u001b[38;5;241m0.1\u001b[39m)\n",
      "Cell \u001b[1;32mIn[65], line 3\u001b[0m, in \u001b[0;36msaving.__init__\u001b[1;34m(self, name, balance, persent)\u001b[0m\n\u001b[0;32m      2\u001b[0m \u001b[38;5;28;01mdef\u001b[39;00m \u001b[38;5;21m__init__\u001b[39m(\u001b[38;5;28mself\u001b[39m,name,balance,persent):\n\u001b[1;32m----> 3\u001b[0m     \u001b[38;5;28mself\u001b[39m\u001b[38;5;241m.\u001b[39mbalance\u001b[38;5;241m=\u001b[39m\u001b[38;5;28mself\u001b[39m\u001b[38;5;241m.\u001b[39mbalance\u001b[38;5;241m+\u001b[39m\u001b[38;5;28mself\u001b[39m\u001b[38;5;241m.\u001b[39mbalance\u001b[38;5;241m*\u001b[39mpersent\n\u001b[0;32m      4\u001b[0m     \u001b[38;5;28mprint\u001b[39m (\u001b[38;5;124mf\u001b[39m\u001b[38;5;124m\"\u001b[39m\u001b[38;5;124myour balance rate= \u001b[39m\u001b[38;5;132;01m{\u001b[39;00m\u001b[38;5;28mself\u001b[39m\u001b[38;5;241m.\u001b[39mbalance\u001b[38;5;132;01m}\u001b[39;00m\u001b[38;5;124m\"\u001b[39m)\n",
      "\u001b[1;31mAttributeError\u001b[0m: 'saving' object has no attribute 'balance'"
     ]
    }
   ],
   "source": [
    "ahmmmd=saving('yassa',5000,0.1)"
   ]
  },
  {
   "cell_type": "code",
   "execution_count": null,
   "id": "fd70fc82-1092-4cb4-b084-7263df44cf88",
   "metadata": {},
   "outputs": [],
   "source": []
  }
 ],
 "metadata": {
  "kernelspec": {
   "display_name": "Python 3 (ipykernel)",
   "language": "python",
   "name": "python3"
  },
  "language_info": {
   "codemirror_mode": {
    "name": "ipython",
    "version": 3
   },
   "file_extension": ".py",
   "mimetype": "text/x-python",
   "name": "python",
   "nbconvert_exporter": "python",
   "pygments_lexer": "ipython3",
   "version": "3.12.7"
  }
 },
 "nbformat": 4,
 "nbformat_minor": 5
}
