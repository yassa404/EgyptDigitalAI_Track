{
 "cells": [
  {
   "cell_type": "code",
   "execution_count": 235,
   "id": "d39bafcb-9807-437b-b252-41c1d5c961ac",
   "metadata": {},
   "outputs": [
    {
     "data": {
      "text/plain": [
       "[[2, 3], [4, 5]]"
      ]
     },
     "execution_count": 235,
     "metadata": {},
     "output_type": "execute_result"
    }
   ],
   "source": [
    "matex=[[2,3],[4,5]]\n",
    "matex"
   ]
  },
  {
   "cell_type": "code",
   "execution_count": 237,
   "id": "12fc742e-8d6a-4f58-bd7f-5f5e31ee6b3d",
   "metadata": {},
   "outputs": [],
   "source": [
    "##support in dimantion matrex\n",
    "## pytin list is slower than numpy as it based on C\n",
    "## nupay BROADCASTING add num to matrex\n",
    "##maathmatical function\n",
    "##integtrate with ather lib\n",
    "import numpy\n"
   ]
  },
  {
   "cell_type": "code",
   "execution_count": 239,
   "id": "18114453-ad70-427b-a6fe-99dd482c6281",
   "metadata": {},
   "outputs": [
    {
     "data": {
      "text/plain": [
       "array([1, 2, 3, 4, 5])"
      ]
     },
     "execution_count": 239,
     "metadata": {},
     "output_type": "execute_result"
    }
   ],
   "source": [
    "x=numpy.array([1,2,3,4,5])\n",
    "x"
   ]
  },
  {
   "cell_type": "code",
   "execution_count": 241,
   "id": "78daf602-5780-4e9c-a2a2-33c541e6fcd8",
   "metadata": {},
   "outputs": [],
   "source": [
    "import numpy as np"
   ]
  },
  {
   "cell_type": "code",
   "execution_count": 243,
   "id": "0ef9f146-189c-4f9a-b3a0-8f67197d35ea",
   "metadata": {},
   "outputs": [
    {
     "data": {
      "text/plain": [
       "array([1, 2, 3, 4, 5])"
      ]
     },
     "execution_count": 243,
     "metadata": {},
     "output_type": "execute_result"
    }
   ],
   "source": [
    "x=np.array([1,2,3,4,5])\n",
    "x"
   ]
  },
  {
   "cell_type": "code",
   "execution_count": 245,
   "id": "70bf364b-eb74-4cb1-8d21-e87a30965369",
   "metadata": {},
   "outputs": [
    {
     "data": {
      "text/plain": [
       "(3, 3)"
      ]
     },
     "execution_count": 245,
     "metadata": {},
     "output_type": "execute_result"
    }
   ],
   "source": [
    "## 2d dimentin \n",
    "y=np.array([[1,2,4],[4,5,5],[5,5,2]])\n",
    "y\n",
    "y.shape"
   ]
  },
  {
   "cell_type": "code",
   "execution_count": 247,
   "id": "82befd3d-9063-41e8-b3ad-632855448aac",
   "metadata": {},
   "outputs": [
    {
     "data": {
      "text/plain": [
       "(2, 3, 3)"
      ]
     },
     "execution_count": 247,
     "metadata": {},
     "output_type": "execute_result"
    }
   ],
   "source": [
    "## 3d dimention \n",
    "y=np.array([\n",
    "    [\n",
    "        [1,2,4],[4,5,5],[5,5,2]\n",
    "    ],   \n",
    "    [\n",
    "        [1,2,4],[4,5,5],[5,5,2]\n",
    "    ],     \n",
    "          ])\n",
    "y\n",
    "y.shape"
   ]
  },
  {
   "cell_type": "code",
   "execution_count": 249,
   "id": "ef8f9b7f-e94d-42c5-9a11-f3a84feedb5f",
   "metadata": {},
   "outputs": [
    {
     "data": {
      "text/plain": [
       "array([10, 12, 14, 16, 18])"
      ]
     },
     "execution_count": 249,
     "metadata": {},
     "output_type": "execute_result"
    }
   ],
   "source": [
    "np.arange(10,20,2)"
   ]
  },
  {
   "cell_type": "code",
   "execution_count": 251,
   "id": "931f0d49-ef6f-478b-8ecd-f11f3ed8126c",
   "metadata": {},
   "outputs": [
    {
     "data": {
      "text/plain": [
       "array([[0.63491614, 0.27150989, 0.23971912],\n",
       "       [0.28064213, 0.23430894, 0.33756159]])"
      ]
     },
     "execution_count": 251,
     "metadata": {},
     "output_type": "execute_result"
    }
   ],
   "source": [
    "np.random.rand(2,3)"
   ]
  },
  {
   "cell_type": "code",
   "execution_count": 253,
   "id": "d1a95eee-62ad-4c93-ab78-3da6d0fa0088",
   "metadata": {},
   "outputs": [
    {
     "data": {
      "text/plain": [
       "array([[3, 3, 1],\n",
       "       [0, 4, 7],\n",
       "       [4, 0, 8]])"
      ]
     },
     "execution_count": 253,
     "metadata": {},
     "output_type": "execute_result"
    }
   ],
   "source": [
    "m = np.random.randint(0, 10, size=(3,3))\n",
    "m"
   ]
  },
  {
   "cell_type": "code",
   "execution_count": 255,
   "id": "0fc58462-bdf4-4584-a64b-aea0e85916d6",
   "metadata": {},
   "outputs": [
    {
     "name": "stdout",
     "output_type": "stream",
     "text": [
      "[0 4 7]\n",
      "[0 4 7]\n",
      "[[4 7]\n",
      " [0 8]]\n"
     ]
    }
   ],
   "source": [
    "g=m[1,:]\n",
    "print(g)\n",
    "m[:,1]\n",
    "print(g)\n",
    "g=m[1:,1:]\n",
    "print(g)"
   ]
  },
  {
   "cell_type": "code",
   "execution_count": 257,
   "id": "669b1afa-1ab3-4749-9ff1-73aefb97b2df",
   "metadata": {},
   "outputs": [
    {
     "name": "stdout",
     "output_type": "stream",
     "text": [
      "[[4 7]\n",
      " [0 8]]\n"
     ]
    }
   ],
   "source": [
    "g=m[1:,1:]\n",
    "print(g)"
   ]
  },
  {
   "cell_type": "code",
   "execution_count": 259,
   "id": "e03a3410-a54d-4e60-a4e5-d576237fb173",
   "metadata": {},
   "outputs": [
    {
     "name": "stdout",
     "output_type": "stream",
     "text": [
      "30\n"
     ]
    }
   ],
   "source": [
    "total_sum = 0\n",
    "\n",
    "for i in range(m.shape[0]):\n",
    "    for j in range(m.shape[0]):\n",
    "        total_sum += m[i, j]\n",
    "\n",
    "print(total_sum)"
   ]
  },
  {
   "cell_type": "code",
   "execution_count": 261,
   "id": "ee6e0710-560c-4eda-9731-3fc4cf2cd880",
   "metadata": {},
   "outputs": [
    {
     "data": {
      "text/plain": [
       "30"
      ]
     },
     "execution_count": 261,
     "metadata": {},
     "output_type": "execute_result"
    }
   ],
   "source": [
    "sum=0\n",
    "for row in m:\n",
    "    for cal in row:\n",
    "        sum += cal\n",
    "\n",
    "sum        "
   ]
  },
  {
   "cell_type": "code",
   "execution_count": 280,
   "id": "dad8ece9-2dde-4c3a-b76a-1e9165eb6b94",
   "metadata": {},
   "outputs": [
    {
     "name": "stdout",
     "output_type": "stream",
     "text": [
      "[[2 8 6]\n",
      " [2 8 1]\n",
      " [7 5 9]]\n",
      "[[0 5 7]\n",
      " [7 9 0]\n",
      " [6 1 4]]\n"
     ]
    }
   ],
   "source": [
    "d = np.random.randint(0, 10, size=(3,3))\n",
    "ss = np.random.randint(0, 10, size=(3,3))\n",
    "print (d)\n",
    "print (ss)"
   ]
  },
  {
   "cell_type": "code",
   "execution_count": 282,
   "id": "80cb110b-626e-428a-bfdf-bc0a1324da95",
   "metadata": {},
   "outputs": [],
   "source": [
    "for i in range(m.shape[0]):\n",
    "    for j in range(m.shape[0]):\n",
    "        ss[i, j]=m[i, j]*d[i, j]"
   ]
  },
  {
   "cell_type": "code",
   "execution_count": 284,
   "id": "d93dc3fe-1310-4644-b6ef-f9d09ee05f87",
   "metadata": {},
   "outputs": [
    {
     "name": "stdout",
     "output_type": "stream",
     "text": [
      "[[ 6 24  6]\n",
      " [ 0 32  7]\n",
      " [28  0 72]]\n"
     ]
    }
   ],
   "source": [
    "print (ss)"
   ]
  },
  {
   "cell_type": "code",
   "execution_count": 286,
   "id": "11825b68-3d80-4ab9-b657-e765f601a2fa",
   "metadata": {},
   "outputs": [],
   "source": [
    "#dot product\n",
    "for i in range(3):\n",
    "    for j in range(3):\n",
    "        for k in range(3):\n",
    "            ss [i,j]+=m[i,k]*d[k,j]"
   ]
  },
  {
   "cell_type": "code",
   "execution_count": 288,
   "id": "8fb0371e-075b-4b59-a47f-da4972fa2758",
   "metadata": {},
   "outputs": [
    {
     "name": "stdout",
     "output_type": "stream",
     "text": [
      "[[ 25  77  36]\n",
      " [ 57  99  74]\n",
      " [ 92  72 168]]\n"
     ]
    }
   ],
   "source": [
    "print (ss)"
   ]
  },
  {
   "cell_type": "code",
   "execution_count": 290,
   "id": "22c33696-485d-42ee-9a84-47d77615990e",
   "metadata": {},
   "outputs": [],
   "source": [
    "ss=np.dot(m,d)"
   ]
  },
  {
   "cell_type": "code",
   "execution_count": 292,
   "id": "750d5f40-2762-486a-a9b6-a397ac2fcad8",
   "metadata": {},
   "outputs": [
    {
     "name": "stdout",
     "output_type": "stream",
     "text": [
      "[[19 53 30]\n",
      " [57 67 67]\n",
      " [64 72 96]]\n"
     ]
    }
   ],
   "source": [
    "print (ss)"
   ]
  },
  {
   "cell_type": "code",
   "execution_count": null,
   "id": "a9f1412f-c511-42c0-8636-cd63a3dff5fc",
   "metadata": {},
   "outputs": [],
   "source": []
  },
  {
   "cell_type": "code",
   "execution_count": null,
   "id": "cd7c4d7d-6790-4bc1-a1b4-b50eac84afee",
   "metadata": {},
   "outputs": [],
   "source": []
  }
 ],
 "metadata": {
  "kernelspec": {
   "display_name": "Python 3 (ipykernel)",
   "language": "python",
   "name": "python3"
  },
  "language_info": {
   "codemirror_mode": {
    "name": "ipython",
    "version": 3
   },
   "file_extension": ".py",
   "mimetype": "text/x-python",
   "name": "python",
   "nbconvert_exporter": "python",
   "pygments_lexer": "ipython3",
   "version": "3.12.7"
  }
 },
 "nbformat": 4,
 "nbformat_minor": 5
}
