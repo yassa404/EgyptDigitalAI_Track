{
 "cells": [
  {
   "cell_type": "code",
   "execution_count": 2,
   "id": "7af0e952-3560-48a9-8060-e66c66b6e778",
   "metadata": {},
   "outputs": [],
   "source": [
    "matrix=[\n",
    "    [2,3],\n",
    "    [4,5]\n",
    "] "
   ]
  },
  {
   "cell_type": "code",
   "execution_count": 7,
   "id": "0495e2ab-7922-4f2a-9841-22a080bed31a",
   "metadata": {},
   "outputs": [],
   "source": [
    "## support N_dim array\n",
    "## Broadcasting\n",
    "## MathmaticaL func\n",
    "### integrate with other Lib\n",
    "\n",
    "import numpy as np\n"
   ]
  },
  {
   "cell_type": "code",
   "execution_count": 84,
   "id": "5ca55ec6-b28a-448c-8342-84749fdf91bf",
   "metadata": {},
   "outputs": [
    {
     "name": "stdout",
     "output_type": "stream",
     "text": [
      "[1 2 3]\n"
     ]
    },
    {
     "data": {
      "text/plain": [
       "(3,)"
      ]
     },
     "execution_count": 84,
     "metadata": {},
     "output_type": "execute_result"
    }
   ],
   "source": [
    "#1D  vector\n",
    "x=np.array([1,2,3])\n",
    "print(x)\n",
    "x.shape"
   ]
  },
  {
   "cell_type": "code",
   "execution_count": 22,
   "id": "aea2fa50-5758-450c-8017-c76ac71e160d",
   "metadata": {},
   "outputs": [
    {
     "name": "stdout",
     "output_type": "stream",
     "text": [
      "[[1 2 3]\n",
      " [1 2 3]\n",
      " [4 5 6]]\n"
     ]
    },
    {
     "data": {
      "text/plain": [
       "(3, 3)"
      ]
     },
     "execution_count": 22,
     "metadata": {},
     "output_type": "execute_result"
    }
   ],
   "source": [
    "#2D\n",
    "x=np.array([[1,2,3],[1,2,3],[4,5,6]])\n",
    "print(x)\n",
    "x.shape"
   ]
  },
  {
   "cell_type": "code",
   "execution_count": 48,
   "id": "849983bd-75fd-4544-8e17-a81130738884",
   "metadata": {},
   "outputs": [
    {
     "name": "stdout",
     "output_type": "stream",
     "text": [
      "[[[1 2 3]\n",
      "  [1 2 3]]\n",
      "\n",
      " [[1 2 3]\n",
      "  [1 2 3]]]\n"
     ]
    },
    {
     "data": {
      "text/plain": [
       "(2, 2, 3)"
      ]
     },
     "execution_count": 48,
     "metadata": {},
     "output_type": "execute_result"
    }
   ],
   "source": [
    "#3D\n",
    "x=np.array([\n",
    "       [\n",
    "    [1,2,3],[1,2,3]\n",
    "       ],\n",
    "       [\n",
    "     [1,2,3],[1,2,3]\n",
    "       ]\n",
    " \n",
    "            ])\n",
    "print(x)\n",
    "x.shape"
   ]
  },
  {
   "cell_type": "code",
   "execution_count": 50,
   "id": "32047757-1123-45da-b524-994c3003e22f",
   "metadata": {},
   "outputs": [
    {
     "data": {
      "text/plain": [
       "array([[0., 0., 0.],\n",
       "       [0., 0., 0.]])"
      ]
     },
     "execution_count": 50,
     "metadata": {},
     "output_type": "execute_result"
    }
   ],
   "source": [
    "np.zeros((2,3))"
   ]
  },
  {
   "cell_type": "code",
   "execution_count": 52,
   "id": "ea57fdc3-d514-43f4-8dfe-fcec9e860dcd",
   "metadata": {},
   "outputs": [
    {
     "data": {
      "text/plain": [
       "array([[1., 1., 1.],\n",
       "       [1., 1., 1.]])"
      ]
     },
     "execution_count": 52,
     "metadata": {},
     "output_type": "execute_result"
    }
   ],
   "source": [
    "np.ones((2,3))"
   ]
  },
  {
   "cell_type": "code",
   "execution_count": 56,
   "id": "45c508fd-b1a8-41ca-bb4b-ceea17c6f7b2",
   "metadata": {},
   "outputs": [
    {
     "data": {
      "text/plain": [
       "array([10, 12, 14, 16, 18])"
      ]
     },
     "execution_count": 56,
     "metadata": {},
     "output_type": "execute_result"
    }
   ],
   "source": [
    "np.arange(10,20,2)"
   ]
  },
  {
   "cell_type": "code",
   "execution_count": 66,
   "id": "9ed0363d-b9cd-4ced-b979-7fa50d74df64",
   "metadata": {},
   "outputs": [
    {
     "data": {
      "text/plain": [
       "array([[0.92332505, 0.80869767, 0.16137556],\n",
       "       [0.06958022, 0.27119145, 0.07542868]])"
      ]
     },
     "execution_count": 66,
     "metadata": {},
     "output_type": "execute_result"
    }
   ],
   "source": [
    "np.random.rand(2,3)"
   ]
  },
  {
   "cell_type": "code",
   "execution_count": 92,
   "id": "e91c60a2-b154-4fd3-b4d5-dc96084d1689",
   "metadata": {},
   "outputs": [
    {
     "data": {
      "text/plain": [
       "array([[3, 3, 1],\n",
       "       [3, 4, 3],\n",
       "       [2, 1, 2]], dtype=uint8)"
      ]
     },
     "execution_count": 92,
     "metadata": {},
     "output_type": "execute_result"
    }
   ],
   "source": [
    "x=np.random.randint(1,5,size=(3,3),dtype=np.uint8)\n",
    "x"
   ]
  },
  {
   "cell_type": "code",
   "execution_count": 94,
   "id": "66aaf2a9-30f3-4594-892e-379a3e75fd4b",
   "metadata": {},
   "outputs": [
    {
     "data": {
      "text/plain": [
       "4"
      ]
     },
     "execution_count": 94,
     "metadata": {},
     "output_type": "execute_result"
    }
   ],
   "source": [
    "x[1,1]"
   ]
  },
  {
   "cell_type": "code",
   "execution_count": 106,
   "id": "43895183-a226-466f-9716-1b825f868750",
   "metadata": {},
   "outputs": [
    {
     "data": {
      "text/plain": [
       "4"
      ]
     },
     "execution_count": 106,
     "metadata": {},
     "output_type": "execute_result"
    }
   ],
   "source": [
    "x[1][1]"
   ]
  },
  {
   "cell_type": "code",
   "execution_count": 108,
   "id": "520cded6-5c17-4f56-9dce-020f0524794c",
   "metadata": {},
   "outputs": [
    {
     "data": {
      "text/plain": [
       "array([3, 4, 3], dtype=uint8)"
      ]
     },
     "execution_count": 108,
     "metadata": {},
     "output_type": "execute_result"
    }
   ],
   "source": [
    "x[1]"
   ]
  },
  {
   "cell_type": "code",
   "execution_count": 110,
   "id": "4362b8a5-2296-44b6-a442-f005a41b8e99",
   "metadata": {},
   "outputs": [
    {
     "data": {
      "text/plain": [
       "array([3, 4, 3], dtype=uint8)"
      ]
     },
     "execution_count": 110,
     "metadata": {},
     "output_type": "execute_result"
    }
   ],
   "source": [
    "x[1,:]"
   ]
  },
  {
   "cell_type": "code",
   "execution_count": 148,
   "id": "e3dd7abb-d7d0-4bdf-9af9-10b49e80c60d",
   "metadata": {},
   "outputs": [
    {
     "data": {
      "text/plain": [
       "22"
      ]
     },
     "execution_count": 148,
     "metadata": {},
     "output_type": "execute_result"
    }
   ],
   "source": [
    "sum=0\n",
    "for i in range(x.shape[0]):\n",
    "    for j in range(x.shape[1]):\n",
    "        sum=x[i,j]+sum\n",
    "sum"
   ]
  },
  {
   "cell_type": "code",
   "execution_count": 136,
   "id": "35ad8d5f-74b7-413e-8ab6-2aff1f64b24a",
   "metadata": {},
   "outputs": [
    {
     "data": {
      "text/plain": [
       "3"
      ]
     },
     "execution_count": 136,
     "metadata": {},
     "output_type": "execute_result"
    }
   ],
   "source": [
    "x.shape[0]"
   ]
  },
  {
   "cell_type": "code",
   "execution_count": 138,
   "id": "a6b17767-fdec-4538-8bae-adeeeabd297b",
   "metadata": {},
   "outputs": [],
   "source": [
    "y=np.random.randint(1,5,size=(2,3),dtype=np.uint8)"
   ]
  },
  {
   "cell_type": "code",
   "execution_count": 140,
   "id": "ae7b3fe3-5011-4683-9680-cd2fd2caeba8",
   "metadata": {},
   "outputs": [
    {
     "data": {
      "text/plain": [
       "2"
      ]
     },
     "execution_count": 140,
     "metadata": {},
     "output_type": "execute_result"
    }
   ],
   "source": [
    "y.shape[0]"
   ]
  },
  {
   "cell_type": "code",
   "execution_count": 142,
   "id": "34824236-764e-451c-9229-ee21b25cd14c",
   "metadata": {},
   "outputs": [
    {
     "data": {
      "text/plain": [
       "3"
      ]
     },
     "execution_count": 142,
     "metadata": {},
     "output_type": "execute_result"
    }
   ],
   "source": [
    "y.shape[1]"
   ]
  },
  {
   "cell_type": "code",
   "execution_count": 156,
   "id": "65b5b892-859b-4a14-98dc-9e98c5dee25f",
   "metadata": {},
   "outputs": [],
   "source": [
    "sum=0\n",
    "for row in x:\n",
    "    for element in row:\n",
    "        sum=x[i,j]+sum"
   ]
  },
  {
   "cell_type": "code",
   "execution_count": 154,
   "id": "13e6a5e7-4f2c-4679-99a7-b3c8486af288",
   "metadata": {},
   "outputs": [
    {
     "data": {
      "text/plain": [
       "18"
      ]
     },
     "execution_count": 154,
     "metadata": {},
     "output_type": "execute_result"
    }
   ],
   "source": [
    "sum"
   ]
  },
  {
   "cell_type": "code",
   "execution_count": 73,
   "id": "77128563-0e7e-4a22-97d3-694a2923e561",
   "metadata": {},
   "outputs": [
    {
     "name": "stdout",
     "output_type": "stream",
     "text": [
      "[[4 4 4]\n",
      " [4 3 4]\n",
      " [4 1 3]] [[1 3 3]\n",
      " [2 1 4]\n",
      " [4 1 4]]\n"
     ]
    }
   ],
   "source": [
    "# Define two matrices x and y\n",
    "x=np.random.randint(1,5,size=(3,3),dtype=np.uint8)\n",
    "y=np.random.randint(1,5,size=(3,3),dtype=np.uint8)\n",
    "print (x,\n",
    "       y)"
   ]
  },
  {
   "cell_type": "code",
   "execution_count": 75,
   "id": "c66a456c-aebe-4481-9b06-9fc52531a14c",
   "metadata": {},
   "outputs": [
    {
     "data": {
      "text/plain": [
       "array([[5., 7., 7.],\n",
       "       [6., 4., 8.],\n",
       "       [8., 2., 7.]])"
      ]
     },
     "execution_count": 75,
     "metadata": {},
     "output_type": "execute_result"
    }
   ],
   "source": [
    "# Method using nested loops\n",
    "# Initialize an empty result matrix with the same dimensions\n",
    "add =np.zeros((3,3))\n",
    "for i in range(x.shape[0]):\n",
    "    for j in range(x.shape[1]):\n",
    "        add[i,j] =x[i,j]+y[i,j]\n",
    "add        "
   ]
  },
  {
   "cell_type": "code",
   "execution_count": 77,
   "id": "f42c0354-c0b7-494e-897c-7434e0f110bc",
   "metadata": {},
   "outputs": [
    {
     "data": {
      "text/plain": [
       "array([[28., 20., 44.],\n",
       "       [26., 19., 40.],\n",
       "       [18., 16., 28.]])"
      ]
     },
     "execution_count": 77,
     "metadata": {},
     "output_type": "execute_result"
    }
   ],
   "source": [
    "# dot product\n",
    "# Method using nested loops\n",
    "# Initialize an empty result matrix with the same dimensions\n",
    "dopro =np.zeros((3,3))\n",
    "# Triple nested loops to calculate matrix multiplication\n",
    "for i in range(x.shape[0]):\n",
    "    for j in range(x.shape[1]):\n",
    "        for k in range(x.shape[1]):\n",
    "            dopro[i,j] +=x[i,k]*y[k,j]\n",
    "dopro   "
   ]
  },
  {
   "cell_type": "code",
   "execution_count": 79,
   "id": "265283f8-3300-46bf-b876-35ba016db475",
   "metadata": {},
   "outputs": [
    {
     "data": {
      "text/plain": [
       "array([[28, 20, 44],\n",
       "       [26, 19, 40],\n",
       "       [18, 16, 28]], dtype=uint8)"
      ]
     },
     "execution_count": 79,
     "metadata": {},
     "output_type": "execute_result"
    }
   ],
   "source": [
    "# Method using the @ operator\n",
    "x@y"
   ]
  },
  {
   "cell_type": "code",
   "execution_count": 81,
   "id": "82404fbc-e4b8-4386-9b63-1b81be696d8d",
   "metadata": {},
   "outputs": [
    {
     "data": {
      "text/plain": [
       "array([[28, 20, 44],\n",
       "       [26, 19, 40],\n",
       "       [18, 16, 28]], dtype=uint8)"
      ]
     },
     "execution_count": 81,
     "metadata": {},
     "output_type": "execute_result"
    }
   ],
   "source": [
    "# Method using np.dot\n",
    "np.dot(x,y)"
   ]
  },
  {
   "cell_type": "code",
   "execution_count": 87,
   "id": "0e0888e2-e38e-44b8-a860-fd7df7eb9f99",
   "metadata": {},
   "outputs": [
    {
     "data": {
      "text/plain": [
       "array([[14, 14, 14],\n",
       "       [14, 13, 14],\n",
       "       [14, 11, 13]], dtype=uint8)"
      ]
     },
     "execution_count": 87,
     "metadata": {},
     "output_type": "execute_result"
    }
   ],
   "source": [
    "# Add 10 to each element of the matrix\n",
    "x+10\n"
   ]
  },
  {
   "cell_type": "code",
   "execution_count": 106,
   "id": "0bc19cfc-6ab0-472d-9333-8a8c2483e725",
   "metadata": {},
   "outputs": [
    {
     "data": {
      "text/plain": [
       "31"
      ]
     },
     "execution_count": 106,
     "metadata": {},
     "output_type": "execute_result"
    }
   ],
   "source": [
    "#x.sum() sums all elements.\n",
    "#x.sum(axis=0) sums elements column-wise.\n",
    "#x.sum(axis=1) sums elements row-wise.\n",
    "x.sum()"
   ]
  },
  {
   "cell_type": "code",
   "execution_count": 108,
   "id": "a4e06631-3b50-4367-8482-aa31b4d0fef9",
   "metadata": {},
   "outputs": [
    {
     "data": {
      "text/plain": [
       "31"
      ]
     },
     "execution_count": 108,
     "metadata": {},
     "output_type": "execute_result"
    }
   ],
   "source": [
    "# x.sum(axis=0) sums elements column-wise.\n",
    "# x.sum(axis=1) sums elements row-wise.\n",
    "np.sum(x)"
   ]
  },
  {
   "cell_type": "code",
   "execution_count": 110,
   "id": "e50054aa-a290-4ce9-8553-5b6096a147a1",
   "metadata": {},
   "outputs": [
    {
     "data": {
      "text/plain": [
       "4"
      ]
     },
     "execution_count": 110,
     "metadata": {},
     "output_type": "execute_result"
    }
   ],
   "source": [
    "np.max(x)"
   ]
  },
  {
   "cell_type": "code",
   "execution_count": 112,
   "id": "a0617028-4b3c-40cf-a6ae-7e9e362c5870",
   "metadata": {},
   "outputs": [
    {
     "data": {
      "text/plain": [
       "1"
      ]
     },
     "execution_count": 112,
     "metadata": {},
     "output_type": "execute_result"
    }
   ],
   "source": [
    "np.min(x)"
   ]
  },
  {
   "cell_type": "code",
   "execution_count": 114,
   "id": "d6b26d22-aedf-4f4a-a100-0e75f43b11d1",
   "metadata": {},
   "outputs": [
    {
     "data": {
      "text/plain": [
       "array([[1, 0, 0],\n",
       "       [0, 2, 0],\n",
       "       [0, 0, 3]])"
      ]
     },
     "execution_count": 114,
     "metadata": {},
     "output_type": "execute_result"
    }
   ],
   "source": [
    "np.diag([1,2,3])"
   ]
  },
  {
   "cell_type": "code",
   "execution_count": 116,
   "id": "04970fd7-da60-4365-aecf-1f6a99cd54d9",
   "metadata": {},
   "outputs": [
    {
     "data": {
      "text/plain": [
       "array([[1., 0., 0.],\n",
       "       [0., 1., 0.],\n",
       "       [0., 0., 1.]])"
      ]
     },
     "execution_count": 116,
     "metadata": {},
     "output_type": "execute_result"
    }
   ],
   "source": [
    "np.eye(3)"
   ]
  },
  {
   "cell_type": "code",
   "execution_count": 120,
   "id": "e6ad9c58-f88f-4558-88db-4dc34d0c8261",
   "metadata": {},
   "outputs": [
    {
     "data": {
      "text/plain": [
       "array([[4, 4, 4],\n",
       "       [4, 3, 1],\n",
       "       [4, 4, 3]], dtype=uint8)"
      ]
     },
     "execution_count": 120,
     "metadata": {},
     "output_type": "execute_result"
    }
   ],
   "source": [
    "np.transpose(x)\n",
    "x.T"
   ]
  },
  {
   "cell_type": "code",
   "execution_count": 122,
   "id": "57061213-d79c-4cf6-a8d2-1cc14cdcb550",
   "metadata": {},
   "outputs": [
    {
     "data": {
      "text/plain": [
       "4.0"
      ]
     },
     "execution_count": 122,
     "metadata": {},
     "output_type": "execute_result"
    }
   ],
   "source": [
    "# Compute the determinant of x\n",
    "np.linalg.det(x)\n"
   ]
  },
  {
   "cell_type": "code",
   "execution_count": 124,
   "id": "1e38bba3-8ee3-47b8-bb71-3edfb792595b",
   "metadata": {},
   "outputs": [
    {
     "data": {
      "text/plain": [
       "array([[ 1.25, -2.  ,  1.  ],\n",
       "       [ 1.  , -1.  , -0.  ],\n",
       "       [-2.  ,  3.  , -1.  ]])"
      ]
     },
     "execution_count": 124,
     "metadata": {},
     "output_type": "execute_result"
    }
   ],
   "source": [
    "np.linalg.inv(x)"
   ]
  },
  {
   "cell_type": "code",
   "execution_count": null,
   "id": "5dba962a-3cf0-4905-a5e4-b03e658a2b2a",
   "metadata": {},
   "outputs": [],
   "source": []
  }
 ],
 "metadata": {
  "kernelspec": {
   "display_name": "Python 3 (ipykernel)",
   "language": "python",
   "name": "python3"
  },
  "language_info": {
   "codemirror_mode": {
    "name": "ipython",
    "version": 3
   },
   "file_extension": ".py",
   "mimetype": "text/x-python",
   "name": "python",
   "nbconvert_exporter": "python",
   "pygments_lexer": "ipython3",
   "version": "3.12.7"
  }
 },
 "nbformat": 4,
 "nbformat_minor": 5
}
