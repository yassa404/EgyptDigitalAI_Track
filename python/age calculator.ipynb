{
 "cells": [
  {
   "cell_type": "code",
   "execution_count": 1,
   "id": "1ddfb7a2-7218-4920-9128-e92851822876",
   "metadata": {},
   "outputs": [
    {
     "name": "stdin",
     "output_type": "stream",
     "text": [
      "enter date 2003\n"
     ]
    }
   ],
   "source": [
    "date=int(input(\"enter date\"))"
   ]
  },
  {
   "cell_type": "code",
   "execution_count": 3,
   "id": "a5d397a3-9806-497b-affa-0dbbdda0865d",
   "metadata": {},
   "outputs": [],
   "source": [
    "age=2024-date"
   ]
  },
  {
   "cell_type": "code",
   "execution_count": 9,
   "id": "637a8918-9086-491f-a53e-0c85db152cd0",
   "metadata": {},
   "outputs": [
    {
     "name": "stdout",
     "output_type": "stream",
     "text": [
      "your age = 21\n"
     ]
    }
   ],
   "source": [
    "print (\"your age =\",age)"
   ]
  },
  {
   "cell_type": "code",
   "execution_count": 11,
   "id": "aac48a02-533b-42bb-8d8e-13767bd00d81",
   "metadata": {},
   "outputs": [
    {
     "name": "stdout",
     "output_type": "stream",
     "text": [
      "<class 'int'>\n"
     ]
    }
   ],
   "source": [
    "print(type(age))"
   ]
  },
  {
   "cell_type": "code",
   "execution_count": null,
   "id": "3185044f-1971-47af-b29a-006280595188",
   "metadata": {},
   "outputs": [],
   "source": []
  }
 ],
 "metadata": {
  "kernelspec": {
   "display_name": "Python 3 (ipykernel)",
   "language": "python",
   "name": "python3"
  },
  "language_info": {
   "codemirror_mode": {
    "name": "ipython",
    "version": 3
   },
   "file_extension": ".py",
   "mimetype": "text/x-python",
   "name": "python",
   "nbconvert_exporter": "python",
   "pygments_lexer": "ipython3",
   "version": "3.12.7"
  }
 },
 "nbformat": 4,
 "nbformat_minor": 5
}
