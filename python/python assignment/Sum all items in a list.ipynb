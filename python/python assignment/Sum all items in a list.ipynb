{
 "cells": [
  {
   "cell_type": "code",
   "execution_count": 4,
   "id": "ea40d0ec-3cab-4a6f-8744-a2785cad6a15",
   "metadata": {},
   "outputs": [],
   "source": [
    "numbers = [1, 2, 3, 4, 5]\n",
    "total = 0\n"
   ]
  },
  {
   "cell_type": "code",
   "execution_count": 6,
   "id": "8c189692-d729-4ad3-98da-6a1647ee59d1",
   "metadata": {},
   "outputs": [
    {
     "name": "stdout",
     "output_type": "stream",
     "text": [
      "Sum of the list: 15\n"
     ]
    }
   ],
   "source": [
    "for num in numbers:\n",
    "    total += num\n",
    "print(\"Sum of the list:\", total)"
   ]
  },
  {
   "cell_type": "code",
   "execution_count": null,
   "id": "58aaaf67-dac7-41ac-a0db-4f8e674136f1",
   "metadata": {},
   "outputs": [],
   "source": []
  }
 ],
 "metadata": {
  "kernelspec": {
   "display_name": "Python 3 (ipykernel)",
   "language": "python",
   "name": "python3"
  },
  "language_info": {
   "codemirror_mode": {
    "name": "ipython",
    "version": 3
   },
   "file_extension": ".py",
   "mimetype": "text/x-python",
   "name": "python",
   "nbconvert_exporter": "python",
   "pygments_lexer": "ipython3",
   "version": "3.12.7"
  }
 },
 "nbformat": 4,
 "nbformat_minor": 5
}
