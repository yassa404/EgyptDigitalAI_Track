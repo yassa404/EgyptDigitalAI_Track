{
 "cells": [
  {
   "cell_type": "code",
   "execution_count": 2,
   "id": "b07f4f22-b6f8-4e2b-8037-da5068650489",
   "metadata": {},
   "outputs": [],
   "source": [
    "numbers = [10, 3, 5, 2, 8]\n",
    "smallest = numbers[0]"
   ]
  },
  {
   "cell_type": "code",
   "execution_count": 4,
   "id": "d880a8ac-7df6-400b-83cb-522185fa70a8",
   "metadata": {},
   "outputs": [
    {
     "name": "stdout",
     "output_type": "stream",
     "text": [
      "Smallest number: 2\n"
     ]
    }
   ],
   "source": [
    "for num in numbers:\n",
    "    if num < smallest:\n",
    "        smallest = num\n",
    "print(\"Smallest number:\", smallest)"
   ]
  },
  {
   "cell_type": "code",
   "execution_count": null,
   "id": "d0af591b-0fee-474e-b1f0-cca3bafdf7b3",
   "metadata": {},
   "outputs": [],
   "source": []
  }
 ],
 "metadata": {
  "kernelspec": {
   "display_name": "Python 3 (ipykernel)",
   "language": "python",
   "name": "python3"
  },
  "language_info": {
   "codemirror_mode": {
    "name": "ipython",
    "version": 3
   },
   "file_extension": ".py",
   "mimetype": "text/x-python",
   "name": "python",
   "nbconvert_exporter": "python",
   "pygments_lexer": "ipython3",
   "version": "3.12.7"
  }
 },
 "nbformat": 4,
 "nbformat_minor": 5
}
