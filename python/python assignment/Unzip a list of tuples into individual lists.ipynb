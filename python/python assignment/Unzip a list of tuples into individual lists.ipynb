{
 "cells": [
  {
   "cell_type": "code",
   "execution_count": 2,
   "id": "de951452-3a18-4785-bc05-f8f3fd81f9c5",
   "metadata": {},
   "outputs": [],
   "source": [
    "tuples = [(1, 'a'), (2, 'b'), (3, 'c')]\n",
    "list1 = []\n",
    "list2 = []"
   ]
  },
  {
   "cell_type": "code",
   "execution_count": 4,
   "id": "28e56994-ceb6-4343-a3d2-dad4e718df93",
   "metadata": {},
   "outputs": [
    {
     "name": "stdout",
     "output_type": "stream",
     "text": [
      "Unzipped lists: [1, 2, 3] ['a', 'b', 'c']\n"
     ]
    }
   ],
   "source": [
    "for t in tuples:\n",
    "    list1.append(t[0])\n",
    "    list2.append(t[1])\n",
    "print(\"Unzipped lists:\", list1, list2)"
   ]
  },
  {
   "cell_type": "code",
   "execution_count": null,
   "id": "45177398-57df-43d1-a27d-78c637a43e2f",
   "metadata": {},
   "outputs": [],
   "source": []
  },
  {
   "cell_type": "code",
   "execution_count": null,
   "id": "8a8425ac-0847-457c-99ee-8cf7fe1fa742",
   "metadata": {},
   "outputs": [],
   "source": []
  }
 ],
 "metadata": {
  "kernelspec": {
   "display_name": "Python 3 (ipykernel)",
   "language": "python",
   "name": "python3"
  },
  "language_info": {
   "codemirror_mode": {
    "name": "ipython",
    "version": 3
   },
   "file_extension": ".py",
   "mimetype": "text/x-python",
   "name": "python",
   "nbconvert_exporter": "python",
   "pygments_lexer": "ipython3",
   "version": "3.12.7"
  }
 },
 "nbformat": 4,
 "nbformat_minor": 5
}
