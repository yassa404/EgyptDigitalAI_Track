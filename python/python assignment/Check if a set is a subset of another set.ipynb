{
 "cells": [
  {
   "cell_type": "code",
   "execution_count": 1,
   "id": "cd4ea2bd-d102-40ee-9d3a-19a248cf53e9",
   "metadata": {},
   "outputs": [],
   "source": [
    "set1 = {1, 2, 3}\n",
    "set2 = {1, 2, 3, 4, 5}\n",
    "is_subset = True"
   ]
  },
  {
   "cell_type": "code",
   "execution_count": 3,
   "id": "4a158378-d696-4e80-8a5a-85a000bf66e7",
   "metadata": {},
   "outputs": [
    {
     "name": "stdout",
     "output_type": "stream",
     "text": [
      "Is set1 a subset of set2? True\n"
     ]
    }
   ],
   "source": [
    "for item in set1:\n",
    "    if item not in set2:\n",
    "        is_subset = False\n",
    "        break\n",
    "print(\"Is set1 a subset of set2?\", is_subset)\n"
   ]
  },
  {
   "cell_type": "code",
   "execution_count": null,
   "id": "2117711c-4127-4263-b38e-158cca91a448",
   "metadata": {},
   "outputs": [],
   "source": []
  }
 ],
 "metadata": {
  "kernelspec": {
   "display_name": "Python 3 (ipykernel)",
   "language": "python",
   "name": "python3"
  },
  "language_info": {
   "codemirror_mode": {
    "name": "ipython",
    "version": 3
   },
   "file_extension": ".py",
   "mimetype": "text/x-python",
   "name": "python",
   "nbconvert_exporter": "python",
   "pygments_lexer": "ipython3",
   "version": "3.12.7"
  }
 },
 "nbformat": 4,
 "nbformat_minor": 5
}
