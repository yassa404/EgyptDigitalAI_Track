{
 "cells": [
  {
   "cell_type": "code",
   "execution_count": 2,
   "id": "1f815a97-1c21-475e-bd41-8017a070f6eb",
   "metadata": {},
   "outputs": [
    {
     "name": "stdout",
     "output_type": "stream",
     "text": [
      "Array 1:\n",
      "[0.07141037 0.67109167 0.4882266  0.75820623 0.4193882  0.28906553\n",
      " 0.35521116 0.09580795 0.93597411 0.26835035]\n",
      "Array 2:\n",
      "[0.98933059 0.88245477 0.56907462 0.14355873 0.61007633 0.77552718\n",
      " 0.08983879 0.92082716 0.04277549 0.42260847]\n"
     ]
    }
   ],
   "source": [
    "import numpy as np\n",
    "array1 = np.random.rand(10)\n",
    "array2 = np.random.rand(10)\n",
    "print(\"Array 1:\")\n",
    "print(array1)\n",
    "print(\"Array 2:\")\n",
    "print(array2)"
   ]
  },
  {
   "cell_type": "code",
   "execution_count": 4,
   "id": "567fe1aa-0101-43bd-8fd7-2bec313b206c",
   "metadata": {},
   "outputs": [
    {
     "name": "stdout",
     "output_type": "stream",
     "text": [
      "Sum of arrays:\n",
      "[1.06074096 1.55354643 1.05730121 0.90176496 1.02946453 1.06459271\n",
      " 0.44504996 1.01663511 0.9787496  0.69095882]\n"
     ]
    }
   ],
   "source": [
    "array_sum = array1 + array2\n",
    "print(\"Sum of arrays:\")\n",
    "print(array_sum)"
   ]
  },
  {
   "cell_type": "code",
   "execution_count": 8,
   "id": "4b993ed4-9243-4e3c-b788-e853ba846b95",
   "metadata": {},
   "outputs": [
    {
     "name": "stdout",
     "output_type": "stream",
     "text": [
      "Element-wise product:\n",
      "[0.07064846 0.59220804 0.27783736 0.10884713 0.25585881 0.22417817\n",
      " 0.03191174 0.08822256 0.04003675 0.11340713]\n"
     ]
    }
   ],
   "source": [
    "array_product = array1 * array2\n",
    "print(\"Element-wise product:\")\n",
    "print(array_product)"
   ]
  },
  {
   "cell_type": "code",
   "execution_count": 10,
   "id": "ac3cf86b-e12e-4733-8cb4-dad15ec1bd4f",
   "metadata": {},
   "outputs": [
    {
     "name": "stdout",
     "output_type": "stream",
     "text": [
      "Max in sum array: 1.5535464330278885\n",
      "Max in product array: 0.5922080401514\n"
     ]
    }
   ],
   "source": [
    "max_sum = array_sum.max()\n",
    "max_product = array_product.max()\n",
    "\n",
    "print(\"Max in sum array:\", max_sum)\n",
    "print(\"Max in product array:\", max_product)"
   ]
  },
  {
   "cell_type": "code",
   "execution_count": 12,
   "id": "d90c7cb5-7143-41c9-8873-9020ead92bc2",
   "metadata": {},
   "outputs": [
    {
     "name": "stdout",
     "output_type": "stream",
     "text": [
      "Normalized sum array:\n",
      "[0.55542892 1.         0.55232585 0.41201304 0.52721374 0.55890367\n",
      " 0.         0.51564002 0.48146264 0.22184   ]\n",
      "Normalized product array:\n",
      "[0.06913613 1.         0.43892066 0.13731196 0.39969401 0.34315135\n",
      " 0.         0.10050185 0.01450127 0.14545052]\n"
     ]
    }
   ],
   "source": [
    "normalized_sum = (array_sum - array_sum.min()) / (array_sum.max() - array_sum.min())  # تطبيع المجموع\n",
    "normalized_product = (array_product - array_product.min()) / (array_product.max() - array_product.min())  # تطبيع الناتج\n",
    "\n",
    "print(\"Normalized sum array:\")\n",
    "print(normalized_sum)\n",
    "print(\"Normalized product array:\")\n",
    "print(normalized_product)"
   ]
  },
  {
   "cell_type": "code",
   "execution_count": null,
   "id": "17f0d7c9-55e6-4c63-aae5-7361c77fc79b",
   "metadata": {},
   "outputs": [],
   "source": []
  }
 ],
 "metadata": {
  "kernelspec": {
   "display_name": "Python 3 (ipykernel)",
   "language": "python",
   "name": "python3"
  },
  "language_info": {
   "codemirror_mode": {
    "name": "ipython",
    "version": 3
   },
   "file_extension": ".py",
   "mimetype": "text/x-python",
   "name": "python",
   "nbconvert_exporter": "python",
   "pygments_lexer": "ipython3",
   "version": "3.12.7"
  }
 },
 "nbformat": 4,
 "nbformat_minor": 5
}
