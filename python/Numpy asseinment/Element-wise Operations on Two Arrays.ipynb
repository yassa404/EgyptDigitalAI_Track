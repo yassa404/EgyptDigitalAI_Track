{
 "cells": [
  {
   "cell_type": "code",
   "execution_count": 2,
   "id": "1f815a97-1c21-475e-bd41-8017a070f6eb",
   "metadata": {},
   "outputs": [
    {
     "name": "stdout",
     "output_type": "stream",
     "text": [
      "Array 1:\n",
      "[0.88970202 0.43872721 0.8359744  0.77247574 0.67464286 0.15380631\n",
      " 0.30697161 0.57305482 0.37067838 0.63681925]\n",
      "Array 2:\n",
      "[0.56946504 0.48796236 0.72664191 0.4671612  0.82672714 0.42454392\n",
      " 0.85408318 0.4028379  0.20355517 0.78277029]\n"
     ]
    }
   ],
   "source": [
    "import numpy as np\n",
    "array1 = np.random.rand(10)\n",
    "array2 = np.random.rand(10)\n",
    "print(\"Array 1:\")\n",
    "print(array1)\n",
    "print(\"Array 2:\")\n",
    "print(array2)"
   ]
  },
  {
   "cell_type": "code",
   "execution_count": 4,
   "id": "567fe1aa-0101-43bd-8fd7-2bec313b206c",
   "metadata": {},
   "outputs": [
    {
     "name": "stdout",
     "output_type": "stream",
     "text": [
      "Sum of the Two Arrays (Element-wise):\n",
      "[1.45916707 0.92668957 1.5626163  1.23963694 1.50137    0.57835023\n",
      " 1.16105479 0.97589272 0.57423355 1.41958953]\n"
     ]
    }
   ],
   "source": [
    "array_sum = array1 + array2\n",
    "print(\"Sum of the Two Arrays (Element-wise):\")\n",
    "print(array_sum)"
   ]
  },
  {
   "cell_type": "code",
   "execution_count": 6,
   "id": "4b993ed4-9243-4e3c-b788-e853ba846b95",
   "metadata": {},
   "outputs": [
    {
     "name": "stdout",
     "output_type": "stream",
     "text": [
      "Product of the Two Arrays (Element-wise):\n",
      "[0.5066542  0.21408236 0.60745403 0.36087069 0.55774556 0.06529753\n",
      " 0.26217929 0.2308482  0.0754535  0.49848318]\n"
     ]
    }
   ],
   "source": [
    "array_product = array1 * array2\n",
    "print(\"Product of the Two Arrays (Element-wise):\")\n",
    "print(array_product)"
   ]
  },
  {
   "cell_type": "code",
   "execution_count": 8,
   "id": "ac3cf86b-e12e-4733-8cb4-dad15ec1bd4f",
   "metadata": {},
   "outputs": [
    {
     "name": "stdout",
     "output_type": "stream",
     "text": [
      "Maximum Value in the Sum Array: 1.5626163047334174\n",
      "Maximum Value in the Product Array: 0.6074540305637194\n"
     ]
    }
   ],
   "source": [
    "max_sum = np.max(array_sum)\n",
    "max_product = np.max(array_product)\n",
    "\n",
    "print(\"Maximum Value in the Sum Array:\", max_sum)\n",
    "print(\"Maximum Value in the Product Array:\", max_product)"
   ]
  },
  {
   "cell_type": "code",
   "execution_count": 10,
   "id": "d90c7cb5-7143-41c9-8873-9020ead92bc2",
   "metadata": {},
   "outputs": [
    {
     "name": "stdout",
     "output_type": "stream",
     "text": [
      "Normalized Sum Array:\n",
      "[0.89533484 0.35659871 1.         0.6732244  0.93803381 0.00416507\n",
      " 0.59371861 0.40638019 0.         0.85529212]\n",
      "Normalized Product Array:\n",
      "[0.81407614 0.27443152 1.         0.54518052 0.90831343 0.\n",
      " 0.36314561 0.30535587 0.01873253 0.79900481]\n"
     ]
    }
   ],
   "source": [
    "normalized_sum = (array_sum - np.min(array_sum)) / (np.max(array_sum) - np.min(array_sum))\n",
    "normalized_product = (array_product - np.min(array_product)) / (np.max(array_product) - np.min(array_product))\n",
    "\n",
    "print(\"Normalized Sum Array:\")\n",
    "print(normalized_sum)\n",
    "print(\"Normalized Product Array:\")\n",
    "print(normalized_product)"
   ]
  },
  {
   "cell_type": "code",
   "execution_count": null,
   "id": "17f0d7c9-55e6-4c63-aae5-7361c77fc79b",
   "metadata": {},
   "outputs": [],
   "source": []
  }
 ],
 "metadata": {
  "kernelspec": {
   "display_name": "Python 3 (ipykernel)",
   "language": "python",
   "name": "python3"
  },
  "language_info": {
   "codemirror_mode": {
    "name": "ipython",
    "version": 3
   },
   "file_extension": ".py",
   "mimetype": "text/x-python",
   "name": "python",
   "nbconvert_exporter": "python",
   "pygments_lexer": "ipython3",
   "version": "3.12.7"
  }
 },
 "nbformat": 4,
 "nbformat_minor": 5
}
