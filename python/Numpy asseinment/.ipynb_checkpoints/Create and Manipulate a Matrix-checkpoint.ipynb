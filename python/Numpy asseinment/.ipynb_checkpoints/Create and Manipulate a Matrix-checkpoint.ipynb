{
 "cells": [
  {
   "cell_type": "code",
   "execution_count": 2,
   "id": "de4594a4-a3cf-45f1-a080-3fd5d73f8465",
   "metadata": {},
   "outputs": [
    {
     "name": "stdout",
     "output_type": "stream",
     "text": [
      "Original Matrix:\n",
      "[[86 55 68 40 99]\n",
      " [98 78 67 32  7]\n",
      " [21 56 53 34 16]\n",
      " [12 35 35 60 93]\n",
      " [79 70 41 37 37]]\n"
     ]
    }
   ],
   "source": [
    "import numpy as np\n",
    "#Create a (5x5) matrix filled with random integers between 1 and 100\n",
    "matrix = np.random.randint(1, 101, size=(5, 5))\n",
    "print(\"Original Matrix:\")\n",
    "print(matrix)"
   ]
  },
  {
   "cell_type": "code",
   "execution_count": 4,
   "id": "d1a5e73b-c058-477b-9915-07d924a82be3",
   "metadata": {},
   "outputs": [
    {
     "name": "stdout",
     "output_type": "stream",
     "text": [
      "First Row of the Matrix:\n",
      "[86 55 68 40 99]\n"
     ]
    }
   ],
   "source": [
    "first_row = matrix[0, :]\n",
    "print(\"First Row of the Matrix:\")\n",
    "print(first_row)"
   ]
  },
  {
   "cell_type": "code",
   "execution_count": 6,
   "id": "a8febe32-2278-4fec-a8f9-66fffab6ad85",
   "metadata": {},
   "outputs": [
    {
     "name": "stdout",
     "output_type": "stream",
     "text": [
      "Last Column of the Matrix:\n",
      "[99  7 16 93 37]\n"
     ]
    }
   ],
   "source": [
    "last_column = matrix[:, -1]\n",
    "print(\"Last Column of the Matrix:\")\n",
    "print(last_column)"
   ]
  },
  {
   "cell_type": "code",
   "execution_count": 8,
   "id": "56247385-bb51-407d-a1c3-86f3492f0be8",
   "metadata": {},
   "outputs": [
    {
     "name": "stdout",
     "output_type": "stream",
     "text": [
      "Sum of All Elements in the Matrix:\n",
      "1309\n"
     ]
    }
   ],
   "source": [
    "sum_of_elements = np.sum(matrix)\n",
    "print(\"Sum of All Elements in the Matrix:\")\n",
    "print(sum_of_elements)"
   ]
  },
  {
   "cell_type": "code",
   "execution_count": 10,
   "id": "b539a9f0-902b-4974-b0c1-680719bb9225",
   "metadata": {},
   "outputs": [
    {
     "name": "stdout",
     "output_type": "stream",
     "text": [
      "Matrix After Replacing Elements Greater Than 50 with 0:\n",
      "[[ 0  0  0 40  0]\n",
      " [ 0  0  0 32  7]\n",
      " [21  0  0 34 16]\n",
      " [12 35 35  0  0]\n",
      " [ 0  0 41 37 37]]\n"
     ]
    }
   ],
   "source": [
    "matrix[matrix > 50] = 0\n",
    "print(\"Matrix After Replacing Elements Greater Than 50 with 0:\")\n",
    "print(matrix)"
   ]
  },
  {
   "cell_type": "code",
   "execution_count": null,
   "id": "7d6d928e-7356-43c4-af5e-f05add3cda3c",
   "metadata": {},
   "outputs": [],
   "source": []
  },
  {
   "cell_type": "code",
   "execution_count": null,
   "id": "bb42e90f-b300-48d6-aa78-01a0f24c2a89",
   "metadata": {},
   "outputs": [],
   "source": []
  }
 ],
 "metadata": {
  "kernelspec": {
   "display_name": "Python 3 (ipykernel)",
   "language": "python",
   "name": "python3"
  },
  "language_info": {
   "codemirror_mode": {
    "name": "ipython",
    "version": 3
   },
   "file_extension": ".py",
   "mimetype": "text/x-python",
   "name": "python",
   "nbconvert_exporter": "python",
   "pygments_lexer": "ipython3",
   "version": "3.12.7"
  }
 },
 "nbformat": 4,
 "nbformat_minor": 5
}
