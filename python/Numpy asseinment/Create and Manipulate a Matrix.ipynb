{
 "cells": [
  {
   "cell_type": "code",
   "execution_count": 2,
   "id": "de4594a4-a3cf-45f1-a080-3fd5d73f8465",
   "metadata": {},
   "outputs": [
    {
     "name": "stdout",
     "output_type": "stream",
     "text": [
      "Original Matrix:\n",
      "[[70 95 93 41 68]\n",
      " [84 58 73 96 59]\n",
      " [31 25 67 25 91]\n",
      " [63 90 48 16 88]\n",
      " [35 19 47  6 27]]\n"
     ]
    }
   ],
   "source": [
    "import numpy as np\n",
    "matrix = np.random.randint(1, 101, size=(5, 5)) \n",
    "print(\"Original Matrix:\")\n",
    "print(matrix) "
   ]
  },
  {
   "cell_type": "code",
   "execution_count": 4,
   "id": "d1a5e73b-c058-477b-9915-07d924a82be3",
   "metadata": {},
   "outputs": [
    {
     "name": "stdout",
     "output_type": "stream",
     "text": [
      "First Row:\n",
      "[70 95 93 41 68]\n"
     ]
    }
   ],
   "source": [
    "first_row = matrix[0]\n",
    "print(\"First Row:\")\n",
    "print(first_row)"
   ]
  },
  {
   "cell_type": "code",
   "execution_count": 6,
   "id": "a8febe32-2278-4fec-a8f9-66fffab6ad85",
   "metadata": {},
   "outputs": [
    {
     "name": "stdout",
     "output_type": "stream",
     "text": [
      "Last Column:\n",
      "[68 59 91 88 27]\n"
     ]
    }
   ],
   "source": [
    "last_column = matrix[:, -1]\n",
    "print(\"Last Column:\")\n",
    "print(last_column)"
   ]
  },
  {
   "cell_type": "code",
   "execution_count": 8,
   "id": "56247385-bb51-407d-a1c3-86f3492f0be8",
   "metadata": {},
   "outputs": [
    {
     "name": "stdout",
     "output_type": "stream",
     "text": [
      "Sum of All Elements:\n",
      "1415\n"
     ]
    }
   ],
   "source": [
    "total_sum = matrix.sum()\n",
    "print(\"Sum of All Elements:\")\n",
    "print(total_sum)"
   ]
  },
  {
   "cell_type": "code",
   "execution_count": 12,
   "id": "b539a9f0-902b-4974-b0c1-680719bb9225",
   "metadata": {},
   "outputs": [
    {
     "name": "stdout",
     "output_type": "stream",
     "text": [
      "Modified Matrix:\n",
      "[[ 0  0  0 41  0]\n",
      " [ 0  0  0  0  0]\n",
      " [31 25  0 25  0]\n",
      " [ 0  0 48 16  0]\n",
      " [35 19 47  6 27]]\n"
     ]
    }
   ],
   "source": [
    "matrix[matrix > 50] = 0\n",
    "print(\"Modified Matrix:\")\n",
    "print(matrix)"
   ]
  },
  {
   "cell_type": "code",
   "execution_count": null,
   "id": "7d6d928e-7356-43c4-af5e-f05add3cda3c",
   "metadata": {},
   "outputs": [],
   "source": []
  },
  {
   "cell_type": "code",
   "execution_count": null,
   "id": "bb42e90f-b300-48d6-aa78-01a0f24c2a89",
   "metadata": {},
   "outputs": [],
   "source": []
  }
 ],
 "metadata": {
  "kernelspec": {
   "display_name": "Python 3 (ipykernel)",
   "language": "python",
   "name": "python3"
  },
  "language_info": {
   "codemirror_mode": {
    "name": "ipython",
    "version": 3
   },
   "file_extension": ".py",
   "mimetype": "text/x-python",
   "name": "python",
   "nbconvert_exporter": "python",
   "pygments_lexer": "ipython3",
   "version": "3.12.7"
  }
 },
 "nbformat": 4,
 "nbformat_minor": 5
}
