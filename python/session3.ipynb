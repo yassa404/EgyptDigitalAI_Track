{
 "cells": [
  {
   "cell_type": "code",
   "execution_count": 4,
   "id": "a8762cea-4113-4a6f-8b42-391a81b6f8f8",
   "metadata": {},
   "outputs": [
    {
     "name": "stdin",
     "output_type": "stream",
     "text": [
      "enter your name yasssa\n"
     ]
    }
   ],
   "source": [
    "name=input(\"enter your name\")"
   ]
  },
  {
   "cell_type": "code",
   "execution_count": 6,
   "id": "b8fbc6b6-a630-45cf-9f65-6c524979633f",
   "metadata": {},
   "outputs": [
    {
     "name": "stdin",
     "output_type": "stream",
     "text": [
      "enter age 19\n"
     ]
    }
   ],
   "source": [
    "age=int(input(\"enter age\"))"
   ]
  },
  {
   "cell_type": "code",
   "execution_count": 8,
   "id": "0f438028-6040-4ee1-b006-eadffcd1b7eb",
   "metadata": {},
   "outputs": [
    {
     "name": "stdin",
     "output_type": "stream",
     "text": [
      "enter grade 6\n"
     ]
    }
   ],
   "source": [
    "grade=int(input(\"enter grade\"))"
   ]
  },
  {
   "cell_type": "code",
   "execution_count": 12,
   "id": "b471823b-5857-495f-bd89-6c6dfd6c20c2",
   "metadata": {},
   "outputs": [
    {
     "name": "stdin",
     "output_type": "stream",
     "text": [
      "enter score 3.1\n"
     ]
    }
   ],
   "source": [
    "score=float(input(\"enter score\"))"
   ]
  },
  {
   "cell_type": "code",
   "execution_count": 26,
   "id": "524390b9-42ed-4aa3-9750-7820b371ac75",
   "metadata": {},
   "outputs": [
    {
     "name": "stdin",
     "output_type": "stream",
     "text": [
      "enter data base 2\n",
      "Enter your name:  kll\n",
      "Enter age:  13\n",
      "Enter grade:  13\n",
      "Enter score:  3.2\n",
      "Enter your name:  hfufu\n",
      "Enter age:  16\n",
      "Enter grade:  13\n",
      "Enter score:  1.3\n"
     ]
    },
    {
     "name": "stdout",
     "output_type": "stream",
     "text": [
      "{'kll': {'age': 13, 'grade': 13, 'score': 3.2}, 'hfufu': {'age': 16, 'grade': 13, 'score': 1.3}}\n"
     ]
    }
   ],
   "source": [
    "database=int(input(\"enter data base\"))\n",
    "user={}\n",
    "\n",
    "for i in range(database):  # Use 'range(database)' to loop 'database' times\n",
    "    name = input(\"Enter your name: \")\n",
    "    age = int(input(\"Enter age: \"))\n",
    "    grade = int(input(\"Enter grade: \"))\n",
    "    score = float(input(\"Enter score: \"))\n",
    "    user[name] = {\n",
    "        \"age\": age,\n",
    "        \"grade\": grade,\n",
    "        \"score\": score\n",
    "    }\n",
    "print(user)"
   ]
  },
  {
   "cell_type": "code",
   "execution_count": 46,
   "id": "8e88b013-b186-4589-ba21-3ac4329c3c2b",
   "metadata": {},
   "outputs": [
    {
     "name": "stdout",
     "output_type": "stream",
     "text": [
      "The student name is kll\n",
      "age: 13\n",
      "grade: 13\n",
      "score: 3.2\n",
      "------------------------------\n",
      "The student name is hfufu\n",
      "age: 16\n",
      "grade: 13\n",
      "score: 1.3\n",
      "------------------------------\n"
     ]
    }
   ],
   "source": [
    "for i in user:\n",
    "    print(\"The student name is \" + i)\n",
    "    for j in user[i]:\n",
    "        print(f\"{j}: {user[i][j]}\")\n",
    "    print(\"-\" * 30)"
   ]
  },
  {
   "cell_type": "code",
   "execution_count": 48,
   "id": "0329b0bd-3992-4048-a027-797796ec0009",
   "metadata": {},
   "outputs": [],
   "source": [
    "def print_hello() :\n",
    "    print (\"hello\")"
   ]
  },
  {
   "cell_type": "code",
   "execution_count": 50,
   "id": "f715a4fa-6433-41a4-9c17-719f21740b22",
   "metadata": {},
   "outputs": [
    {
     "name": "stdout",
     "output_type": "stream",
     "text": [
      "hello\n"
     ]
    }
   ],
   "source": [
    "print_hello()\n"
   ]
  },
  {
   "cell_type": "code",
   "execution_count": 52,
   "id": "6c45e5b1-2b14-4a1e-9e98-0000dde54b86",
   "metadata": {},
   "outputs": [],
   "source": [
    "def print_hello(bala7) :\n",
    "    print (f\"hello{bala7}\")"
   ]
  },
  {
   "cell_type": "code",
   "execution_count": 54,
   "id": "e0a20b5f-fad2-46b0-aebb-32c0621832df",
   "metadata": {},
   "outputs": [
    {
     "name": "stdout",
     "output_type": "stream",
     "text": [
      "helloyassa\n"
     ]
    }
   ],
   "source": [
    "print_hello(\"yassa\")"
   ]
  },
  {
   "cell_type": "code",
   "execution_count": 56,
   "id": "4f098f48-add2-475d-802b-70c298321e5b",
   "metadata": {},
   "outputs": [],
   "source": [
    "def print_hello(bala7='') :\n",
    "    print (f\"hello{bala7}\")"
   ]
  },
  {
   "cell_type": "code",
   "execution_count": 113,
   "id": "a9a7bac7-ca86-49fd-87f5-24889d3a30e1",
   "metadata": {},
   "outputs": [
    {
     "name": "stdout",
     "output_type": "stream",
     "text": [
      "hello\n"
     ]
    }
   ],
   "source": [
    "print_hello() "
   ]
  },
  {
   "cell_type": "code",
   "execution_count": 99,
   "id": "04ee0311-402f-4eca-8726-fdf80eb70ba1",
   "metadata": {},
   "outputs": [],
   "source": [
    "def summ (num1,num2) :\n",
    "     print(num1+num2)"
   ]
  },
  {
   "cell_type": "code",
   "execution_count": 101,
   "id": "c04dc127-43d9-4236-b212-d5c284037e5f",
   "metadata": {},
   "outputs": [
    {
     "name": "stdout",
     "output_type": "stream",
     "text": [
      "11\n"
     ]
    }
   ],
   "source": [
    "summ(5,6)"
   ]
  },
  {
   "cell_type": "code",
   "execution_count": 107,
   "id": "de9b6692-df0c-4c29-a670-1e01bce99271",
   "metadata": {},
   "outputs": [],
   "source": [
    "def summ (num1,num2) :\n",
    "     return num1+num2"
   ]
  },
  {
   "cell_type": "code",
   "execution_count": 111,
   "id": "9cce11be-7f04-4a8c-a102-cf431a1db175",
   "metadata": {},
   "outputs": [
    {
     "data": {
      "text/plain": [
       "11"
      ]
     },
     "execution_count": 111,
     "metadata": {},
     "output_type": "execute_result"
    }
   ],
   "source": [
    "summ(5,6)"
   ]
  },
  {
   "cell_type": "code",
   "execution_count": 115,
   "id": "0ac0659f-3294-40b9-98ef-610b3dafc92b",
   "metadata": {},
   "outputs": [],
   "source": [
    "def print_database (user) :\n",
    "    for i in user:\n",
    "        print(\"The student name is \" + i)\n",
    "        for j in user[i]:\n",
    "            print(f\"{j}: {user[i][j]}\")\n",
    "    print(\"-\" * 30)"
   ]
  },
  {
   "cell_type": "code",
   "execution_count": 117,
   "id": "cb35130a-0fbe-42f4-bb49-c240d38d19f1",
   "metadata": {},
   "outputs": [
    {
     "name": "stdout",
     "output_type": "stream",
     "text": [
      "The student name is kll\n",
      "age: 13\n",
      "grade: 13\n",
      "score: 3.2\n",
      "The student name is hfufu\n",
      "age: 16\n",
      "grade: 13\n",
      "score: 1.3\n",
      "------------------------------\n"
     ]
    }
   ],
   "source": [
    "print_database(user)"
   ]
  },
  {
   "cell_type": "code",
   "execution_count": 135,
   "id": "a2547790-3707-4f68-9421-162654dc9b1d",
   "metadata": {},
   "outputs": [],
   "source": [
    "def add_new_std(user):\n",
    "    database=int(input(\"enter data base\"))\n",
    "    for i in range(database):  # Use 'range(database)' to loop 'database' times\n",
    "        name = input(\"Enter your name: \")\n",
    "        age = int(input(\"Enter age: \"))\n",
    "        grade = int(input(\"Enter grade: \"))\n",
    "        score = float(input(\"Enter score: \"))\n",
    "        user[name] = {\n",
    "            \"age\": age,\n",
    "            \"grade\": grade,\n",
    "            \"score\": score\n",
    "    }"
   ]
  },
  {
   "cell_type": "code",
   "execution_count": 137,
   "id": "8978e7b8-6e2f-4ddd-8010-184eb07bc63c",
   "metadata": {},
   "outputs": [
    {
     "name": "stdin",
     "output_type": "stream",
     "text": [
      "enter data base 1\n",
      "Enter your name:  hh,khjhhghhjh\n",
      "Enter age:  22\n",
      "Enter grade:  2\n",
      "Enter score:  2\n"
     ]
    }
   ],
   "source": [
    "add_new_std(user)"
   ]
  },
  {
   "cell_type": "code",
   "execution_count": 139,
   "id": "fa619c95-fc38-4640-b044-88923d61c1d5",
   "metadata": {},
   "outputs": [
    {
     "name": "stdout",
     "output_type": "stream",
     "text": [
      "The student name is kll\n",
      "age: 13\n",
      "grade: 13\n",
      "score: 3.2\n",
      "The student name is hfufu\n",
      "age: 16\n",
      "grade: 13\n",
      "score: 1.3\n",
      "The student name is uiu\n",
      "age: 5\n",
      "grade: 5\n",
      "score: 5.0\n",
      "The student name is hjj\n",
      "age: 5\n",
      "grade: 5\n",
      "score: 5.0\n",
      "The student name is hjk\n",
      "age: 5\n",
      "grade: 5\n",
      "score: 5.0\n",
      "The student name is hh,khjhhghhjh\n",
      "age: 22\n",
      "grade: 2\n",
      "score: 2.0\n",
      "------------------------------\n"
     ]
    }
   ],
   "source": [
    "print_database (user)\n"
   ]
  },
  {
   "cell_type": "code",
   "execution_count": 143,
   "id": "c0becfa1-8668-4ac2-863d-651f22000573",
   "metadata": {},
   "outputs": [
    {
     "data": {
      "text/plain": [
       "{'kll': {'age': 13, 'grade': 13, 'score': 3.2},\n",
       " 'hfufu': {'age': 16, 'grade': 13, 'score': 1.3},\n",
       " 'uiu': {'age': 5, 'grade': 5, 'score': 5.0},\n",
       " 'hjk': {'age': 5, 'grade': 5, 'score': 5.0}}"
      ]
     },
     "execution_count": 143,
     "metadata": {},
     "output_type": "execute_result"
    }
   ],
   "source": [
    "del user['hh,khjhhghhjh']\n",
    "user"
   ]
  },
  {
   "cell_type": "code",
   "execution_count": 187,
   "id": "bd0772bf-d15c-4019-b330-d8b7dc63d6b9",
   "metadata": {},
   "outputs": [],
   "source": [
    "def search_std (std_name) :\n",
    "    if std_name in user :\n",
    "        print( user [std_name])\n",
    "        print(f\"grade{user[std_name]['grade']}\")\n",
    "        print(f\"Grade: {user[std_name]['grade']}\")\n",
    "    else:\n",
    "        print(\"not found\")"
   ]
  },
  {
   "cell_type": "code",
   "execution_count": 189,
   "id": "c515c7b4-2b90-4d78-b64d-48c89d7f4046",
   "metadata": {},
   "outputs": [
    {
     "name": "stdout",
     "output_type": "stream",
     "text": [
      "{'age': 5, 'grade': 5, 'score': 5.0}\n",
      "grade5\n",
      "Grade: 5\n"
     ]
    }
   ],
   "source": [
    "search_std(\"hjk\")"
   ]
  },
  {
   "cell_type": "code",
   "execution_count": 211,
   "id": "3a7768f3-958c-4749-b327-9c63dad2e499",
   "metadata": {},
   "outputs": [],
   "source": [
    "##rexcergal\n",
    "def fact (num) :\n",
    "    if num <=1:\n",
    "        return 1\n",
    "    else :\n",
    "        return fact(num-1)*num"
   ]
  },
  {
   "cell_type": "code",
   "execution_count": 213,
   "id": "051d8ff6-3aa4-4d72-9ace-0fe5061dd42b",
   "metadata": {},
   "outputs": [
    {
     "name": "stdout",
     "output_type": "stream",
     "text": [
      "30.8 μs ± 265 ns per loop (mean ± std. dev. of 7 runs, 10,000 loops each)\n"
     ]
    }
   ],
   "source": [
    "%%timeit\n",
    "fact(100)"
   ]
  },
  {
   "cell_type": "code",
   "execution_count": null,
   "id": "dd207a6b-d296-4e74-bb7d-6eb57ddbc632",
   "metadata": {},
   "outputs": [],
   "source": []
  }
 ],
 "metadata": {
  "kernelspec": {
   "display_name": "Python 3 (ipykernel)",
   "language": "python",
   "name": "python3"
  },
  "language_info": {
   "codemirror_mode": {
    "name": "ipython",
    "version": 3
   },
   "file_extension": ".py",
   "mimetype": "text/x-python",
   "name": "python",
   "nbconvert_exporter": "python",
   "pygments_lexer": "ipython3",
   "version": "3.12.7"
  }
 },
 "nbformat": 4,
 "nbformat_minor": 5
}
