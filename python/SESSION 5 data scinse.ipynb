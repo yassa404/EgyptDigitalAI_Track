{
 "cells": [
  {
   "cell_type": "code",
   "execution_count": 6,
   "id": "d39bafcb-9807-437b-b252-41c1d5c961ac",
   "metadata": {},
   "outputs": [
    {
     "data": {
      "text/plain": [
       "[[2, 3], [4, 5]]"
      ]
     },
     "execution_count": 6,
     "metadata": {},
     "output_type": "execute_result"
    }
   ],
   "source": [
    "matex=[[2,3],[4,5]]\n",
    "matex"
   ]
  },
  {
   "cell_type": "code",
   "execution_count": 8,
   "id": "12fc742e-8d6a-4f58-bd7f-5f5e31ee6b3d",
   "metadata": {},
   "outputs": [],
   "source": [
    "##support in dimantion matrex\n",
    "## pytin list is slower than numpy as it based on C\n",
    "## nupay BROADCASTING add num to matrex\n",
    "##maathmatical function\n",
    "##integtrate with ather lib\n",
    "import numpy\n"
   ]
  },
  {
   "cell_type": "code",
   "execution_count": 14,
   "id": "18114453-ad70-427b-a6fe-99dd482c6281",
   "metadata": {},
   "outputs": [
    {
     "data": {
      "text/plain": [
       "array([1, 2, 3, 4, 5])"
      ]
     },
     "execution_count": 14,
     "metadata": {},
     "output_type": "execute_result"
    }
   ],
   "source": [
    "x=numpy.array([1,2,3,4,5])\n",
    "x"
   ]
  },
  {
   "cell_type": "code",
   "execution_count": 16,
   "id": "78daf602-5780-4e9c-a2a2-33c541e6fcd8",
   "metadata": {},
   "outputs": [],
   "source": [
    "import numpy as np"
   ]
  },
  {
   "cell_type": "code",
   "execution_count": 20,
   "id": "0ef9f146-189c-4f9a-b3a0-8f67197d35ea",
   "metadata": {},
   "outputs": [
    {
     "data": {
      "text/plain": [
       "array([1, 2, 3, 4, 5])"
      ]
     },
     "execution_count": 20,
     "metadata": {},
     "output_type": "execute_result"
    }
   ],
   "source": [
    "x=np.array([1,2,3,4,5])\n",
    "x"
   ]
  },
  {
   "cell_type": "code",
   "execution_count": 88,
   "id": "70bf364b-eb74-4cb1-8d21-e87a30965369",
   "metadata": {},
   "outputs": [
    {
     "data": {
      "text/plain": [
       "(3, 3)"
      ]
     },
     "execution_count": 88,
     "metadata": {},
     "output_type": "execute_result"
    }
   ],
   "source": [
    "## 2d dimentin \n",
    "y=np.array([[1,2,4],[4,5,5],[5,5,2]])\n",
    "y\n",
    "y.shape"
   ]
  },
  {
   "cell_type": "code",
   "execution_count": 90,
   "id": "82befd3d-9063-41e8-b3ad-632855448aac",
   "metadata": {},
   "outputs": [
    {
     "data": {
      "text/plain": [
       "(2, 3, 3)"
      ]
     },
     "execution_count": 90,
     "metadata": {},
     "output_type": "execute_result"
    }
   ],
   "source": [
    "## 3d dimention \n",
    "y=np.array([\n",
    "    [\n",
    "        [1,2,4],[4,5,5],[5,5,2]\n",
    "    ],   \n",
    "    [\n",
    "        [1,2,4],[4,5,5],[5,5,2]\n",
    "    ],     \n",
    "          ])\n",
    "y\n",
    "y.shape"
   ]
  },
  {
   "cell_type": "code",
   "execution_count": 92,
   "id": "ef8f9b7f-e94d-42c5-9a11-f3a84feedb5f",
   "metadata": {},
   "outputs": [
    {
     "data": {
      "text/plain": [
       "array([10, 12, 14, 16, 18])"
      ]
     },
     "execution_count": 92,
     "metadata": {},
     "output_type": "execute_result"
    }
   ],
   "source": [
    "np.arange(10,20,2)"
   ]
  },
  {
   "cell_type": "code",
   "execution_count": 94,
   "id": "931f0d49-ef6f-478b-8ecd-f11f3ed8126c",
   "metadata": {},
   "outputs": [
    {
     "data": {
      "text/plain": [
       "array([[0.46727466, 0.62856303, 0.09943393],\n",
       "       [0.21639598, 0.16122328, 0.92416171]])"
      ]
     },
     "execution_count": 94,
     "metadata": {},
     "output_type": "execute_result"
    }
   ],
   "source": [
    "np.random.rand(2,3)"
   ]
  },
  {
   "cell_type": "code",
   "execution_count": 101,
   "id": "d1a95eee-62ad-4c93-ab78-3da6d0fa0088",
   "metadata": {},
   "outputs": [
    {
     "data": {
      "text/plain": [
       "array([[0, 8, 4],\n",
       "       [3, 6, 9],\n",
       "       [8, 5, 6]])"
      ]
     },
     "execution_count": 101,
     "metadata": {},
     "output_type": "execute_result"
    }
   ],
   "source": [
    "m = np.random.randint(0, 10, size=(3,3))\n",
    "m"
   ]
  },
  {
   "cell_type": "code",
   "execution_count": 117,
   "id": "0fc58462-bdf4-4584-a64b-aea0e85916d6",
   "metadata": {},
   "outputs": [
    {
     "name": "stdout",
     "output_type": "stream",
     "text": [
      "[3 6 9]\n",
      "[3 6 9]\n",
      "[[6 9]\n",
      " [5 6]]\n"
     ]
    }
   ],
   "source": [
    "g=m[1,:]\n",
    "print(g)\n",
    "m[:,1]\n",
    "print(g)\n",
    "g=m[1:,1:]\n",
    "print(g)"
   ]
  },
  {
   "cell_type": "code",
   "execution_count": 115,
   "id": "669b1afa-1ab3-4749-9ff1-73aefb97b2df",
   "metadata": {},
   "outputs": [
    {
     "name": "stdout",
     "output_type": "stream",
     "text": [
      "[[6 9]\n",
      " [5 6]]\n"
     ]
    }
   ],
   "source": [
    "g=m[1:,1:]\n",
    "print(g)"
   ]
  },
  {
   "cell_type": "code",
   "execution_count": 123,
   "id": "e03a3410-a54d-4e60-a4e5-d576237fb173",
   "metadata": {},
   "outputs": [
    {
     "name": "stdout",
     "output_type": "stream",
     "text": [
      "49\n"
     ]
    }
   ],
   "source": [
    "total_sum = 0\n",
    "\n",
    "for i in range(m.shape[0]):\n",
    "    for j in range(m.shape[0]):\n",
    "        total_sum += m[i, j]\n",
    "\n",
    "print(total_sum)"
   ]
  },
  {
   "cell_type": "code",
   "execution_count": 141,
   "id": "ee6e0710-560c-4eda-9731-3fc4cf2cd880",
   "metadata": {},
   "outputs": [
    {
     "data": {
      "text/plain": [
       "49"
      ]
     },
     "execution_count": 141,
     "metadata": {},
     "output_type": "execute_result"
    }
   ],
   "source": [
    "sum=0\n",
    "for row in m:\n",
    "    for cal in row:\n",
    "        sum += cal\n",
    "\n",
    "sum        "
   ]
  },
  {
   "cell_type": "code",
   "execution_count": 200,
   "id": "dad8ece9-2dde-4c3a-b76a-1e9165eb6b94",
   "metadata": {},
   "outputs": [
    {
     "name": "stdout",
     "output_type": "stream",
     "text": [
      "[[0 0 3]\n",
      " [8 5 8]\n",
      " [8 1 1]]\n",
      "[[7 5 1]\n",
      " [1 3 6]\n",
      " [2 4 6]]\n"
     ]
    }
   ],
   "source": [
    "d = np.random.randint(0, 10, size=(3,3))\n",
    "ss = np.random.randint(0, 10, size=(3,3))\n",
    "print (d)\n",
    "print (ss)"
   ]
  },
  {
   "cell_type": "code",
   "execution_count": 202,
   "id": "80cb110b-626e-428a-bfdf-bc0a1324da95",
   "metadata": {},
   "outputs": [],
   "source": [
    "for i in range(m.shape[0]):\n",
    "    for j in range(m.shape[0]):\n",
    "        ss[i, j]=m[i, j]*d[i, j]"
   ]
  },
  {
   "cell_type": "code",
   "execution_count": 204,
   "id": "d93dc3fe-1310-4644-b6ef-f9d09ee05f87",
   "metadata": {},
   "outputs": [
    {
     "name": "stdout",
     "output_type": "stream",
     "text": [
      "[[ 0  0 12]\n",
      " [24 30 72]\n",
      " [64  5  6]]\n"
     ]
    }
   ],
   "source": [
    "print (ss)"
   ]
  },
  {
   "cell_type": "code",
   "execution_count": 206,
   "id": "11825b68-3d80-4ab9-b657-e765f601a2fa",
   "metadata": {},
   "outputs": [],
   "source": [
    "#dot product\n",
    "for i in range(3):\n",
    "    for j in range(3):\n",
    "        for k in range(3):\n",
    "            ss [i,j]+=m[i,k]*d[k,j]"
   ]
  },
  {
   "cell_type": "code",
   "execution_count": 214,
   "id": "8fb0371e-075b-4b59-a47f-da4972fa2758",
   "metadata": {},
   "outputs": [
    {
     "name": "stdout",
     "output_type": "stream",
     "text": [
      "[[ 96  44  68]\n",
      " [120  39  66]\n",
      " [ 88  31  70]]\n"
     ]
    }
   ],
   "source": [
    "print (ss)"
   ]
  },
  {
   "cell_type": "code",
   "execution_count": 210,
   "id": "22c33696-485d-42ee-9a84-47d77615990e",
   "metadata": {},
   "outputs": [],
   "source": [
    "ss=np.dot(m,d)"
   ]
  },
  {
   "cell_type": "code",
   "execution_count": 212,
   "id": "750d5f40-2762-486a-a9b6-a397ac2fcad8",
   "metadata": {},
   "outputs": [
    {
     "data": {
      "text/plain": [
       "array([[ 96,  44,  68],\n",
       "       [120,  39,  66],\n",
       "       [ 88,  31,  70]])"
      ]
     },
     "execution_count": 212,
     "metadata": {},
     "output_type": "execute_result"
    }
   ],
   "source": [
    "ss"
   ]
  },
  {
   "cell_type": "code",
   "execution_count": null,
   "id": "a9f1412f-c511-42c0-8636-cd63a3dff5fc",
   "metadata": {},
   "outputs": [],
   "source": []
  }
 ],
 "metadata": {
  "kernelspec": {
   "display_name": "Python 3 (ipykernel)",
   "language": "python",
   "name": "python3"
  },
  "language_info": {
   "codemirror_mode": {
    "name": "ipython",
    "version": 3
   },
   "file_extension": ".py",
   "mimetype": "text/x-python",
   "name": "python",
   "nbconvert_exporter": "python",
   "pygments_lexer": "ipython3",
   "version": "3.12.7"
  }
 },
 "nbformat": 4,
 "nbformat_minor": 5
}
