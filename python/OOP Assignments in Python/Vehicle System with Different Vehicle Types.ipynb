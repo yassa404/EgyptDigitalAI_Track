{
 "cells": [
  {
   "cell_type": "code",
   "execution_count": 2,
   "id": "4aa15e4f-1244-48b0-8534-341b9d1dad6d",
   "metadata": {},
   "outputs": [],
   "source": [
    "class Vehicle:\n",
    "    def __init__(self, make, model, year):\n",
    "        self.make = make\n",
    "        self.model = model\n",
    "        self.year = year\n",
    "\n",
    "    def get_info(self):\n",
    "        return f\"{self.year} {self.make} {self.model}\"\n",
    "\n",
    "    def start(self):\n",
    "        print(\"Vehicle started.\")"
   ]
  },
  {
   "cell_type": "code",
   "execution_count": 6,
   "id": "6b9a142c-61eb-44bc-8260-d012c4ee6a0a",
   "metadata": {},
   "outputs": [
    {
     "name": "stdout",
     "output_type": "stream",
     "text": [
      "2020 Generic ModelX\n",
      "Vehicle started.\n"
     ]
    }
   ],
   "source": [
    "vehicle = Vehicle(\"Generic\", \"ModelX\", 2020)\n",
    "print(vehicle.get_info())\n",
    "vehicle.start()"
   ]
  },
  {
   "cell_type": "code",
   "execution_count": 8,
   "id": "c6e68961-734c-4413-ba3a-6c8b07298b42",
   "metadata": {},
   "outputs": [],
   "source": [
    "class Car(Vehicle):\n",
    "    def __init__(self, make, model, year, num_doors):\n",
    "        super().__init__(make, model, year)\n",
    "        self.num_doors = num_doors\n",
    "\n",
    "    def start(self):\n",
    "        print(\"Car engine started.\")\n"
   ]
  },
  {
   "cell_type": "code",
   "execution_count": 10,
   "id": "ed76df3f-a5b1-405b-8a81-5af9d2db57bd",
   "metadata": {},
   "outputs": [
    {
     "name": "stdout",
     "output_type": "stream",
     "text": [
      "2022 Toyota Corolla\n",
      "Car engine started.\n"
     ]
    }
   ],
   "source": [
    "car = Car(\"Toyota\", \"Corolla\", 2022, 4)\n",
    "print(car.get_info())\n",
    "car.start()"
   ]
  },
  {
   "cell_type": "code",
   "execution_count": 12,
   "id": "c55256c6-3ea6-46d6-9dbf-056de7a614da",
   "metadata": {},
   "outputs": [],
   "source": [
    "class Motorcycle(Vehicle):\n",
    "    def __init__(self, make, model, year, has_sidecar):\n",
    "        super().__init__(make, model, year)\n",
    "        self.has_sidecar = has_sidecar\n",
    "\n",
    "    def start(self):\n",
    "        print(\"Motorcycle engine started.\")"
   ]
  },
  {
   "cell_type": "code",
   "execution_count": 14,
   "id": "b24bb4fd-43e2-443e-9a0e-3166c06a57cc",
   "metadata": {},
   "outputs": [
    {
     "name": "stdout",
     "output_type": "stream",
     "text": [
      "2021 Harley-Davidson Sportster\n",
      "Motorcycle engine started.\n",
      "Has sidecar: False\n"
     ]
    }
   ],
   "source": [
    "motorcycle = Motorcycle(\"Harley-Davidson\", \"Sportster\", 2021, False)\n",
    "print(motorcycle.get_info())\n",
    "motorcycle.start()\n",
    "print(f\"Has sidecar: {motorcycle.has_sidecar}\")\n"
   ]
  },
  {
   "cell_type": "code",
   "execution_count": null,
   "id": "68e8d883-1e42-4eec-bd9e-4f82fddcb338",
   "metadata": {},
   "outputs": [],
   "source": []
  }
 ],
 "metadata": {
  "kernelspec": {
   "display_name": "Python 3 (ipykernel)",
   "language": "python",
   "name": "python3"
  },
  "language_info": {
   "codemirror_mode": {
    "name": "ipython",
    "version": 3
   },
   "file_extension": ".py",
   "mimetype": "text/x-python",
   "name": "python",
   "nbconvert_exporter": "python",
   "pygments_lexer": "ipython3",
   "version": "3.12.7"
  }
 },
 "nbformat": 4,
 "nbformat_minor": 5
}
