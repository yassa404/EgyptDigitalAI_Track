{
 "cells": [
  {
   "cell_type": "code",
   "execution_count": 20,
   "id": "1a9adb6c-9879-433a-9227-5f218f1b7f7b",
   "metadata": {},
   "outputs": [],
   "source": [
    "# Base class for books\n",
    "class Book:\n",
    "    def __init__(self, title, author, year):\n",
    "        self.title = title\n",
    "        self.author = author\n",
    "        self.year = year\n",
    "        self.is_checked_out = False\n",
    "\n",
    "    def check_out(self):\n",
    "        self.is_checked_out = True\n",
    "\n",
    "    def check_in(self):\n",
    "        self.is_checked_out = False\n",
    "\n",
    "    def get_info(self):\n",
    "        return f\"{self.title}, by {self.author} ({self.year})\""
   ]
  },
  {
   "cell_type": "code",
   "execution_count": 22,
   "id": "cd0c3af8-46c5-4fd9-8bef-073c51a8328a",
   "metadata": {},
   "outputs": [],
   "source": [
    "class FictionBook(Book):\n",
    "    def __init__(self, title, author, year, genre):\n",
    "        super().__init__(title, author, year)\n",
    "        self.genre = genre"
   ]
  },
  {
   "cell_type": "code",
   "execution_count": 24,
   "id": "d3912b6d-407a-4773-a751-838f709b0113",
   "metadata": {},
   "outputs": [],
   "source": [
    "class Textbook(Book):\n",
    "    def __init__(self, title, author, year, subject):\n",
    "        super().__init__(title, author, year)\n",
    "        self.subject = subject"
   ]
  },
  {
   "cell_type": "code",
   "execution_count": 26,
   "id": "a5c94ac6-5446-4c35-8707-531114c46658",
   "metadata": {},
   "outputs": [],
   "source": [
    "class Library:\n",
    "    def __init__(self):\n",
    "        self.books = []\n",
    "\n",
    "    def add_book(self, book):\n",
    "        self.books.append(book)\n",
    "\n",
    "    def check_out_book(self, title):\n",
    "        for book in self.books:\n",
    "            if book.title == title and not book.is_checked_out:\n",
    "                book.check_out()\n",
    "                return f\"{title} checked out.\"\n",
    "        return f\"{title} is not available.\"\n",
    "\n",
    "    def list_books(self):\n",
    "        return [book.get_info() for book in self.books]"
   ]
  },
  {
   "cell_type": "code",
   "execution_count": 28,
   "id": "f9a2ed37-a653-41b0-b476-8aa238f5b092",
   "metadata": {},
   "outputs": [],
   "source": [
    "book1 = FictionBook(\"The Great Gatsby\", \"F. Scott Fitzgerald\", 1925, \"Classic\")\n",
    "book2 = Textbook(\"Introduction to Algorithms\", \"Thomas H. Cormen\", 2009, \"Computer Science\")"
   ]
  },
  {
   "cell_type": "code",
   "execution_count": 32,
   "id": "d61d078b-3020-4b4c-8b89-85487aa56f58",
   "metadata": {},
   "outputs": [],
   "source": [
    "library = Library()\n",
    "library.add_book(book1)\n",
    "library.add_book(book2)"
   ]
  },
  {
   "cell_type": "code",
   "execution_count": 34,
   "id": "9a1742f5-2bca-4603-b6cf-c3aa3eacb0f4",
   "metadata": {},
   "outputs": [
    {
     "name": "stdout",
     "output_type": "stream",
     "text": [
      "Book List:\n",
      "The Great Gatsby, by F. Scott Fitzgerald (1925)\n",
      "Introduction to Algorithms, by Thomas H. Cormen (2009)\n"
     ]
    }
   ],
   "source": [
    "print(\"Book List:\")\n",
    "for book_info in library.list_books():\n",
    "    print(book_info)"
   ]
  },
  {
   "cell_type": "code",
   "execution_count": 36,
   "id": "d9ab36ca-708f-4b55-8085-79879d2f3678",
   "metadata": {},
   "outputs": [
    {
     "name": "stdout",
     "output_type": "stream",
     "text": [
      "\n",
      "Attempting to check out a book:\n",
      "The Great Gatsby checked out.\n"
     ]
    }
   ],
   "source": [
    "print(\"\\nAttempting to check out a book:\")\n",
    "print(library.check_out_book(\"The Great Gatsby\"))"
   ]
  },
  {
   "cell_type": "code",
   "execution_count": 38,
   "id": "7cce3675-bdf6-409f-9bfa-de93c8179d29",
   "metadata": {},
   "outputs": [
    {
     "name": "stdout",
     "output_type": "stream",
     "text": [
      "\n",
      "Attempting to check out a non-existent book:\n",
      "Harry Potter is not available.\n"
     ]
    }
   ],
   "source": [
    "print(\"\\nAttempting to check out a non-existent book:\")\n",
    "print(library.check_out_book(\"Harry Potter\"))"
   ]
  },
  {
   "cell_type": "code",
   "execution_count": null,
   "id": "bf00a2dd-3d5b-42e1-aa62-cbec2d2dbedf",
   "metadata": {},
   "outputs": [],
   "source": []
  }
 ],
 "metadata": {
  "kernelspec": {
   "display_name": "Python 3 (ipykernel)",
   "language": "python",
   "name": "python3"
  },
  "language_info": {
   "codemirror_mode": {
    "name": "ipython",
    "version": 3
   },
   "file_extension": ".py",
   "mimetype": "text/x-python",
   "name": "python",
   "nbconvert_exporter": "python",
   "pygments_lexer": "ipython3",
   "version": "3.12.7"
  }
 },
 "nbformat": 4,
 "nbformat_minor": 5
}
