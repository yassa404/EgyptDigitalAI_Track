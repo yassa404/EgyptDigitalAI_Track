{
 "cells": [
  {
   "cell_type": "code",
   "execution_count": 3,
   "id": "6f8d829f-c8ab-4832-ad01-cea4a7a1b426",
   "metadata": {},
   "outputs": [],
   "source": [
    "### this is second session "
   ]
  },
  {
   "cell_type": "code",
   "execution_count": 7,
   "id": "6424cae7-7607-448c-a967-284ffb0bd3f4",
   "metadata": {},
   "outputs": [],
   "source": [
    "##bank system\n",
    "## take user name BAlance"
   ]
  },
  {
   "cell_type": "code",
   "execution_count": 15,
   "id": "519282c1-95e1-48b0-adf9-94fbac64c947",
   "metadata": {},
   "outputs": [
    {
     "name": "stdin",
     "output_type": "stream",
     "text": [
      "enter name yassa\n",
      "enter balance 20\n"
     ]
    },
    {
     "data": {
      "text/plain": [
       "{20, 'balance', 'name', 'yassa'}"
      ]
     },
     "execution_count": 15,
     "metadata": {},
     "output_type": "execute_result"
    }
   ],
   "source": [
    "name=input (\"enter name\")\n",
    "balance=int(input(\"enter balance\"))\n",
    "system={name,balance}\n",
    "system"
   ]
  },
  {
   "cell_type": "code",
   "execution_count": 32,
   "id": "bc743674-a031-423c-9eca-f87b91fb86e5",
   "metadata": {},
   "outputs": [
    {
     "data": {
      "text/plain": [
       "{'yassa': 20}"
      ]
     },
     "execution_count": 32,
     "metadata": {},
     "output_type": "execute_result"
    }
   ],
   "source": [
    "sys={}\n",
    "sys[name]=balance\n",
    "sys\n"
   ]
  },
  {
   "cell_type": "code",
   "execution_count": 38,
   "id": "4d94198c-e557-4a77-968c-6e2fbe0043f4",
   "metadata": {},
   "outputs": [
    {
     "name": "stdin",
     "output_type": "stream",
     "text": [
      "enter name yassa\n",
      "enter balance 20\n",
      "enter name ll3\n",
      "enter balance 2\n",
      "enter name dsf\n",
      "enter balance 3\n"
     ]
    }
   ],
   "source": [
    "##\n",
    "for i in range(3):\n",
    "    name=input (\"enter name\")\n",
    "    balance=int(input(\"enter balance\"))\n",
    "    sys[name]=balance"
   ]
  },
  {
   "cell_type": "code",
   "execution_count": 54,
   "id": "6377adf5-7616-49fd-8d20-1c0561c99fc9",
   "metadata": {},
   "outputs": [
    {
     "name": "stdout",
     "output_type": "stream",
     "text": [
      "yassa 20\n",
      "mazhar 30\n",
      "cc 2\n",
      "ll3 2\n",
      "dsf 3\n"
     ]
    }
   ],
   "source": [
    "for name, balance in sys.items():\n",
    "    print(name, balance)\n"
   ]
  },
  {
   "cell_type": "code",
   "execution_count": 52,
   "id": "89a260f8-0a03-4bbd-bc62-a616f5b12cc3",
   "metadata": {},
   "outputs": [
    {
     "name": "stdout",
     "output_type": "stream",
     "text": [
      "yassa 20\n",
      "mazhar 30\n",
      "cc 2\n",
      "ll3 2\n",
      "dsf 3\n"
     ]
    }
   ],
   "source": [
    "for i in sys:\n",
    "    print(i, sys[i])\n"
   ]
  },
  {
   "cell_type": "code",
   "execution_count": 56,
   "id": "2ac1e07b-8b38-4f18-9124-fa092dfb42d8",
   "metadata": {},
   "outputs": [],
   "source": [
    "##school system\n",
    "### data [student_name, grade, score_as_num,\n",
    "## ask user for data base"
   ]
  },
  {
   "cell_type": "code",
   "execution_count": 66,
   "id": "302c613f-7ead-4ab3-b8cd-e4495bd86b14",
   "metadata": {},
   "outputs": [
    {
     "name": "stdin",
     "output_type": "stream",
     "text": [
      "enter data_size 1\n",
      "enter student_name yassa\n",
      "enter grade 12\n",
      "enter num 3.7\n",
      "score_as_letter a\n"
     ]
    }
   ],
   "source": [
    "data_size=int(input(\"enter data_size\"))\n",
    "for i in range(1,data_size):\n",
    "    student_name=input (\"enter student_name\")\n",
    "    grade=input (\"enter grade\")\n",
    "    score_as_num=float(input (\"enter num\"))\n",
    "    score_as_letter=input (\"score_as_letter\")\n"
   ]
  },
  {
   "cell_type": "code",
   "execution_count": 70,
   "id": "f5d3bfd2-f07c-46a7-9431-9fc5067506c6",
   "metadata": {},
   "outputs": [
    {
     "name": "stdout",
     "output_type": "stream",
     "text": [
      "yassa 20\n",
      "mazhar 30\n",
      "cc 2\n",
      "ll3 2\n",
      "dsf 3\n"
     ]
    }
   ],
   "source": [
    "for name, balance in sys.items():\n",
    "    print(name, balance)\n"
   ]
  },
  {
   "cell_type": "code",
   "execution_count": 72,
   "id": "079047df-3a4f-4578-bf08-ffc64c24f870",
   "metadata": {},
   "outputs": [
    {
     "name": "stdout",
     "output_type": "stream",
     "text": [
      "yassa 20\n",
      "mazhar 30\n",
      "cc 2\n",
      "ll3 2\n",
      "dsf 3\n"
     ]
    }
   ],
   "source": [
    "for name, balance in sys.items():\n",
    "    print(name, balance)\n"
   ]
  },
  {
   "cell_type": "code",
   "execution_count": 80,
   "id": "4939a4d6-e51d-4ade-8c76-8030c459c9e4",
   "metadata": {},
   "outputs": [
    {
     "name": "stdout",
     "output_type": "stream",
     "text": [
      "10\n"
     ]
    }
   ],
   "source": [
    "l = [1, 2, 3, 4, 5, 6, 7, 8, 9, 10]\n",
    "max_value = 0\n",
    "\n",
    "for i in l:\n",
    "    if max_value < i:\n",
    "        max_value = i\n",
    "\n",
    "print(max_value)\n",
    "\n",
    "    "
   ]
  },
  {
   "cell_type": "code",
   "execution_count": 100,
   "id": "839a3049-cffc-419c-afb3-8a2e11d2cd6e",
   "metadata": {},
   "outputs": [],
   "source": [
    "### given string\n",
    "### count number of vowels in this string\n",
    "### Vowels iboua\n",
    "string = \"Hello mr Ali are you 0k\""
   ]
  },
  {
   "cell_type": "code",
   "execution_count": 108,
   "id": "bffee979-f240-4bf8-8832-1e730c1dfe86",
   "metadata": {},
   "outputs": [
    {
     "data": {
      "text/plain": [
       "21"
      ]
     },
     "execution_count": 108,
     "metadata": {},
     "output_type": "execute_result"
    }
   ],
   "source": [
    "Vowels = {\"a\", \"e\", \"i\", \"o\", \"u\"}\n",
    "for i in string:\n",
    "    if i in Vowels:\n",
    "        Vowelsn += 1\n",
    "Vowelsn        "
   ]
  },
  {
   "cell_type": "code",
   "execution_count": 118,
   "id": "9581d691-5866-4270-b73f-84ac9c932147",
   "metadata": {},
   "outputs": [
    {
     "name": "stdin",
     "output_type": "stream",
     "text": [
      "ثnter a number -1\n"
     ]
    },
    {
     "name": "stdout",
     "output_type": "stream",
     "text": [
      "-1 not prime\n"
     ]
    }
   ],
   "source": [
    "n = int(input(\"ثnter a number\"))\n",
    "\n",
    "if n < 2:\n",
    "    print(f\"{n} not prime\")\n",
    "else:\n",
    "    is_prime = True\n",
    "    for i in range(2, int(n**0.5)):\n",
    "        if n % i == 0:\n",
    "            is_prime = False\n",
    "            break\n",
    "    if is_prime:\n",
    "        print(f\"{n}  prime\")\n",
    "    else:\n",
    "        print(f\"{n}not prime\")\n"
   ]
  },
  {
   "cell_type": "code",
   "execution_count": 120,
   "id": "aca8b531-2bac-476f-8877-246fc4ab268b",
   "metadata": {},
   "outputs": [
    {
     "name": "stdin",
     "output_type": "stream",
     "text": [
      "enter num 10203\n"
     ]
    }
   ],
   "source": [
    "#num = 1234\n",
    "#write code to get sum of num'\n",
    "num= input (\"enter num\")"
   ]
  },
  {
   "cell_type": "code",
   "execution_count": 134,
   "id": "26bfdd3a-2849-4332-9641-5887be8da2cc",
   "metadata": {},
   "outputs": [
    {
     "data": {
      "text/plain": [
       "<function sum(iterable, /, start=0)>"
      ]
     },
     "execution_count": 134,
     "metadata": {},
     "output_type": "execute_result"
    }
   ],
   "source": [
    "summ = 0\n",
    "for i in num:\n",
    "    summ+=int(i)\n",
    "sum    "
   ]
  },
  {
   "cell_type": "code",
   "execution_count": null,
   "id": "61314fe6-6235-4b33-8797-32595f45e665",
   "metadata": {},
   "outputs": [],
   "source": []
  }
 ],
 "metadata": {
  "kernelspec": {
   "display_name": "Python 3 (ipykernel)",
   "language": "python",
   "name": "python3"
  },
  "language_info": {
   "codemirror_mode": {
    "name": "ipython",
    "version": 3
   },
   "file_extension": ".py",
   "mimetype": "text/x-python",
   "name": "python",
   "nbconvert_exporter": "python",
   "pygments_lexer": "ipython3",
   "version": "3.12.7"
  }
 },
 "nbformat": 4,
 "nbformat_minor": 5
}
